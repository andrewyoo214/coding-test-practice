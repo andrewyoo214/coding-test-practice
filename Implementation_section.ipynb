{
 "cells": [
  {
   "cell_type": "markdown",
   "metadata": {},
   "source": [
    "### 1. 상하좌우로 움직이기"
   ]
  },
  {
   "cell_type": "code",
   "execution_count": 1,
   "metadata": {},
   "outputs": [
    {
     "name": "stdout",
     "output_type": "stream",
     "text": [
      "5\n",
      "R R R U D D\n",
      "3 4\n"
     ]
    }
   ],
   "source": [
    "#matrix의 크기인 N입력받기\n",
    "n= int(input())\n",
    "x,y =1,1\n",
    "plans=input().split()\n",
    "\n",
    "#L,R,U,D 에 따른 이동 방향 설정\n",
    "dx=[0,0,-1,1]\n",
    "dy=[-1,1,0,0]\n",
    "move_types=['L','R','U','D']\n",
    "\n",
    "#이동 계획을 하나씩 확인해보자\n",
    "for plan in plans:\n",
    "    #이동 후 옮겨온 좌표 구하기\n",
    "    for i in range(len(move_types)):\n",
    "        if plan == move_types[i]:\n",
    "            nx = x + dx[i]\n",
    "            ny = y + dy[i]\n",
    "    #공간을 벗어나는 경우는 무시해주기 위해 지정\n",
    "    if nx < 1 or ny < 1 or nx > n or ny > n:\n",
    "        continue\n",
    "    #이동수행\n",
    "    x,y = nx, ny\n",
    "\n",
    "print(x,y)"
   ]
  },
  {
   "cell_type": "markdown",
   "metadata": {},
   "source": [
    "### 2. 시각 문제\n",
    "- 00시 00분 00초 부터 N시 59분 59초 까지의 모든 시각 중에서 3이 하나라도 포함되는 경우의 수 구하기\n",
    "- EX. 입력값이 1이면 3이 하나라도 포함되어 있으면 카운트 해야 함"
   ]
  },
  {
   "cell_type": "code",
   "execution_count": 2,
   "metadata": {},
   "outputs": [
    {
     "data": {
      "text/plain": [
       "86400"
      ]
     },
     "execution_count": 2,
     "metadata": {},
     "output_type": "execute_result"
    }
   ],
   "source": [
    "# 생각해주어야 하는 전체 경우의 수\n",
    "24 * 60 * 60"
   ]
  },
  {
   "cell_type": "code",
   "execution_count": 4,
   "metadata": {},
   "outputs": [
    {
     "name": "stdout",
     "output_type": "stream",
     "text": [
      "5\n",
      "11475\n"
     ]
    }
   ],
   "source": [
    "# 입력값 (몇개 포함) 을 입력받아야 한다.\n",
    "h = int(input())\n",
    "\n",
    "count = 0\n",
    "for i in range(h+1):\n",
    "    for j in range(60):\n",
    "        for k in range(60):\n",
    "            # 매 시각에 3이 포함되어 있다면 카운트 증가\n",
    "            if '3' in str(i) + str(j) + str(k):\n",
    "                         count += 1\n",
    "print(count)"
   ]
  },
  {
   "cell_type": "markdown",
   "metadata": {},
   "source": [
    "### 3. 왕실의 나이트\n",
    "- knight 동작1: 수평으로 두 칸 이동한 뒤에 수직으로 한 칸 이동\n",
    "- knight 동작2: 수직으로 두 칸 이동한 뒤에 수평으로 한 칸 이동\n",
    "- 8x8 좌표평면상에서 나이트의 위치가 주어졌을 때 이동 가능한 경우의 수는?"
   ]
  },
  {
   "cell_type": "code",
   "execution_count": 6,
   "metadata": {},
   "outputs": [
    {
     "name": "stdout",
     "output_type": "stream",
     "text": [
      "c2\n",
      "6\n"
     ]
    }
   ],
   "source": [
    "# 현재 나이트의 위치가 입력값으로 들어온다.\n",
    "position = input()\n",
    "row = int(position[1])\n",
    "column = int(ord(position[0])) - int(ord('a')) + 1\n",
    "\n",
    "# 나이트가 이동할 수 있는 8가지 방향의 정의\n",
    "steps = [(-2,-1), (-1,-2), (1,-2), (2,-1), (2,1), (1,2), (-1,2), (-2,1)] #총 8가지 가능한 움직임 수\n",
    "\n",
    "#각 방향에 대해 위치로 이동이 가능한지, 즉 8x8 좌표평면을 벗어나지는 않는지를 확인\n",
    "count = 0\n",
    "for step in steps:\n",
    "    # 이동하려는 위치를 확인\n",
    "    next_row = row + step[0]\n",
    "    next_column = column + step[1]\n",
    "    # 이동 가능 여부를 체크. 마이너스 값이 되어서도 안되고 8을 넘어가서도 안되고.\n",
    "    if next_row >= 1 and next_row <= 8 and next_column >=1 and next_column <=8:\n",
    "        count += 1\n",
    "print(count)"
   ]
  },
  {
   "cell_type": "markdown",
   "metadata": {},
   "source": [
    "##### Check Point\n",
    "- 파이썬에서 문자와 아스키코드를 변환할 때 chr()과 ord()함수를 사용할 수 있다\n",
    "- 문자 -> 아스키코드: chr()\n",
    "- 아스키코드 -> 문자: ord()"
   ]
  },
  {
   "cell_type": "markdown",
   "metadata": {},
   "source": [
    "### 4. 게임개발 **\n",
    "- 1. 현재 위치에서 바라보는 방향을 기준으로 왼쪽부터 차례대로 갈 곳을 정한다.\n",
    "- 2. 캐릭터의 바로 왼쪽 방향에 아직 가보지 않은 칸이 존재한다면, 왼쪽 방향으로 회전하여 왼쪽으로 한칸을 전진한다. 만약 왼쪽에 가보지 않은 칸이 없다면, 왼쪽 방향으로 회전만 수행하고 다시 1단계로 돌아간다.\n",
    "- 3. 만약 네 방향 모두 이미 가본 칸이거나 바다로 되어 있는 칸인 경우에는, 바라보는 방향을 유지한 채로 한칸 뒤로 가고 1단계로 돌아간다. 단, 이때 뒤쪽 방향이 바다인 칸이라 뒤로 갈 수 없는 경우는 움직임을 멈춘다.\n",
    "- 메뉴얼에 따라 이동시키며, 캐릭터가 방문한 칸의 수를 출력해보자"
   ]
  },
  {
   "cell_type": "code",
   "execution_count": 15,
   "metadata": {},
   "outputs": [
    {
     "name": "stdout",
     "output_type": "stream",
     "text": [
      "4 4\n",
      "1 1 0\n",
      "1 1 1 1\n",
      "1 0 0 1\n",
      "1 1 0 1\n",
      "1 1 1 1\n",
      "3\n"
     ]
    }
   ],
   "source": [
    "# n, m 을 공백으로 구분하여 입력받기\n",
    "n, m = map(int, input().split())\n",
    "\n",
    "# 방문한 위치를 저장하기 위한 맵을 생성하여 0으로 초기화하기\n",
    "d = [[0] * m for _ in range(n)] # 즉 n x m만큼의 행렬을 만들어서 모두 0처리. 아직 방문하지 않은 곳이라는 뜻\n",
    "\n",
    "# 현재 내 캐릭터의 x, y  좌표와 방향을 입력받기\n",
    "x, y, direction = map(int, input().split()) #direction은 바라보고 있는 방향 (0 북쪽, 1 동쪽, 2 남쪽, 3 서쪽)\n",
    "d[x][y] = 1 #현재 좌표 방문했다고 처리해줌\n",
    "\n",
    "#전체 맺 정보를 입력받아보자. 바다, 육지의 정보\n",
    "array=[]\n",
    "for i in range(n):\n",
    "    array.append(list(map(int, input().split())))\n",
    "\n",
    "# 북, 동, 남, 서 방향의 정의-- (-1,0)은 북쪽, (0,1)은 동쪽, (1,0)은 남쪽, (0,-1)은 서쪽\n",
    "dx = [-1, 0, 1 ,0]\n",
    "dy = [0, 1, 0, -1]\n",
    "\n",
    "# 왼쪽으로 회전하는 함수 지정 (규칙에서 회전은 왼쪽만 있으니까 나머지는 굳이 지정 x)\n",
    "def turn_left():\n",
    "    global direction\n",
    "    direction -= 1\n",
    "    if direction == -1: #즉, 원래 방향이 북쪽이었어서 direction -1하면 -1이 된다면\n",
    "        direction = 3   #direction을 3으로, 그러니까 서쪽으로 바꿔주는것. (왼쪽으로 90도 꺾은모습이지)\n",
    "\n",
    "# simulation step\n",
    "count = 1\n",
    "turn_time = 0\n",
    "while True:\n",
    "    #왼쪽으로 회전\n",
    "    turn_left()\n",
    "    nx = x + dx[direction]\n",
    "    ny = y + dy[direction]\n",
    "    #회전한 이후에 정면에 가보지 않은 칸이 존재하는 경우 해당 칸으로 이동\n",
    "    if d[nx][ny] == 0 and array[nx][ny] == 0:\n",
    "        d[nx][ny] = 1\n",
    "        x = nx\n",
    "        y = ny\n",
    "        count += 1\n",
    "        turn_time =0\n",
    "        continue\n",
    "    #회전한 이후에 정면에 가보지 않은 칸이 없거나 바다가 있어서 갈 수 없는 경우\n",
    "    else:\n",
    "        turn_time += 1\n",
    "    #만약에 네 방향으로 모두 갈 수가 없는 경우\n",
    "    if turn_time == 4:\n",
    "        nx = x - dx[direction]\n",
    "        ny = y - dy[direction]\n",
    "        #뒤로 이동할 수 있다면 이동하자\n",
    "        if array[nx][ny] ==0:\n",
    "            x = nx\n",
    "            y = ny\n",
    "        #뒤가 바다로 막혀있는 경우\n",
    "        else:\n",
    "            break\n",
    "        turn_time=0\n",
    "\n",
    "#최종 결과물 출력 (방문한 칸의 수를 출력)\n",
    "print(count)"
   ]
  },
  {
   "cell_type": "markdown",
   "metadata": {},
   "source": [
    "##### Check Point\n",
    "- 입력으로 받아야 할 항목들을 확인하고,각 입력에 맞는 형태 지정\n",
    "- 좌표 평면상에서 발생하는 경우의 수, 제약 등을 모두 확인하여 조건으로 넣기\n",
    "- 최종 출력값으로 받아야 하는 것이 무엇인지를 확인하여 각 조건에 맞게 반영"
   ]
  }
 ],
 "metadata": {
  "kernelspec": {
   "display_name": "Python 3",
   "language": "python",
   "name": "python3"
  },
  "language_info": {
   "codemirror_mode": {
    "name": "ipython",
    "version": 3
   },
   "file_extension": ".py",
   "mimetype": "text/x-python",
   "name": "python",
   "nbconvert_exporter": "python",
   "pygments_lexer": "ipython3",
   "version": "3.7.9"
  }
 },
 "nbformat": 4,
 "nbformat_minor": 2
}
