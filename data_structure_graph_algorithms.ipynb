{
 "cells": [
  {
   "cell_type": "markdown",
   "id": "changed-bridal",
   "metadata": {},
   "source": [
    "## Basic data structures\n",
    "- Data structure: a data organization, management, and storage format that enables efficient access and modification. More precisely, it is a collection of data values, the relationships among them, and the functions or operations that can be applied to the data. (_wikipedia_)"
   ]
  },
  {
   "cell_type": "markdown",
   "id": "polished-punishment",
   "metadata": {},
   "source": [
    "### 1. Stack\n",
    "- First in Last Out, Last In First Out"
   ]
  },
  {
   "cell_type": "code",
   "execution_count": 1,
   "id": "welsh-equality",
   "metadata": {},
   "outputs": [
    {
     "name": "stdout",
     "output_type": "stream",
     "text": [
      "[5, 2, 3, 1]\n",
      "[1, 3, 2, 5]\n"
     ]
    }
   ],
   "source": [
    "# Example\n",
    "stack = [] #먼저 비어있는 stack을 만들어주고\n",
    "\n",
    "#삽입(5)-삽입(2)-삽입(3)-삽입(7)-삭제()-삽입(1)-삽입(4)-삭제()\n",
    "#결과는 5 2 3 1 이렇게 남아있어야 함\n",
    "stack.append(5)\n",
    "stack.append(2)\n",
    "stack.append(3)\n",
    "stack.append(7)\n",
    "stack.pop()\n",
    "stack.append(1)\n",
    "stack.append(4)\n",
    "stack.pop()\n",
    "\n",
    "print(stack) #기본값. 가장 하단에 있는 원소부터 출력해줌\n",
    "print(stack[::-1]) #가장 상단에 있는 원소부터 출력해줌"
   ]
  },
  {
   "cell_type": "markdown",
   "id": "soviet-spread",
   "metadata": {},
   "source": [
    "### 2. Queue\n",
    "- First In First Out"
   ]
  },
  {
   "cell_type": "code",
   "execution_count": 2,
   "id": "organized-testing",
   "metadata": {},
   "outputs": [
    {
     "name": "stdout",
     "output_type": "stream",
     "text": [
      "deque([3, 7, 1, 4])\n",
      "deque([4, 1, 7, 3])\n"
     ]
    }
   ],
   "source": [
    "from collections import deque #using deque library to use queue\n",
    "\n",
    "queue = deque() #비어있는 queue를 지정해주고\n",
    "\n",
    "#삽입(5)-삽입(2)-삽입(3)-삽입(7)-삭제()-삽입(1)-삽입(4)-삭제()\n",
    "#결과는 3 7 1 4 이렇게 남아있어야 함\n",
    "queue.append(5)\n",
    "queue.append(2)\n",
    "queue.append(3)\n",
    "queue.append(7)\n",
    "queue.popleft()\n",
    "queue.append(1)\n",
    "queue.append(4)\n",
    "queue.popleft()\n",
    "\n",
    "print(queue) #먼저 들어온 순서대로 출력해줌\n",
    "queue.reverse() #역순으로 바꿔주기\n",
    "print(queue) #나중에 들어온 원소부터 출력"
   ]
  },
  {
   "cell_type": "markdown",
   "id": "posted-tunisia",
   "metadata": {},
   "source": [
    "### 3. Recursive Function\n",
    "- Routine that calls itself directly or indirectly\n",
    "- The process may repeat several times, outputting the result and the end of each iteration\n",
    "- 종료 조건에 대한 명시에 중요하다. 명시하지 않으면 무한 호출될 수 있으니까.\n",
    "- 컴퓨터 내부에서 재귀함수의 수행은 스택 자료구조를 이용. 가장 마지막에 호출한 함수가 먼저 수행을 끝내야 그 앞의 함수 호출이 종료되기 때문에."
   ]
  },
  {
   "cell_type": "code",
   "execution_count": 20,
   "id": "explicit-certificate",
   "metadata": {},
   "outputs": [],
   "source": [
    "# #자기 자신을 계속해서 추가로 불러옴. 무한루프\n",
    "# def recursive_function():\n",
    "#     print('call the recursive function.')\n",
    "#     recursive_function()\n",
    "\n",
    "# recursive_function() "
   ]
  },
  {
   "cell_type": "code",
   "execution_count": 4,
   "id": "apart-installation",
   "metadata": {},
   "outputs": [
    {
     "name": "stdout",
     "output_type": "stream",
     "text": [
      "1 번째 재귀 함수에서 2 번째 재귀 함수를 호출합니다\n",
      "2 번째 재귀 함수에서 3 번째 재귀 함수를 호출합니다\n",
      "3 번째 재귀 함수에서 4 번째 재귀 함수를 호출합니다\n",
      "4 번째 재귀 함수에서 5 번째 재귀 함수를 호출합니다\n",
      "5 번째 재귀 함수에서 6 번째 재귀 함수를 호출합니다\n",
      "6 번째 재귀 함수에서 7 번째 재귀 함수를 호출합니다\n",
      "7 번째 재귀 함수에서 8 번째 재귀 함수를 호출합니다\n",
      "8 번째 재귀 함수에서 9 번째 재귀 함수를 호출합니다\n",
      "9 번째 재귀 함수에서 10 번째 재귀 함수를 호출합니다\n",
      "10 번째 재귀 함수에서 11 번째 재귀 함수를 호출합니다\n",
      "11 번째 재귀 함수에서 12 번째 재귀 함수를 호출합니다\n",
      "12 번째 재귀 함수에서 13 번째 재귀 함수를 호출합니다\n",
      "13 번째 재귀 함수에서 14 번째 재귀 함수를 호출합니다\n",
      "14 번째 재귀 함수에서 15 번째 재귀 함수를 호출합니다\n",
      "15 번째 재귀 함수에서 16 번째 재귀 함수를 호출합니다\n",
      "16 번째 재귀 함수에서 17 번째 재귀 함수를 호출합니다\n",
      "17 번째 재귀 함수에서 18 번째 재귀 함수를 호출합니다\n",
      "18 번째 재귀 함수에서 19 번째 재귀 함수를 호출합니다\n",
      "19 번째 재귀 함수에서 20 번째 재귀 함수를 호출합니다\n",
      "20 번째 재귀 함수에서 21 번째 재귀 함수를 호출합니다\n",
      "21 번째 재귀 함수에서 22 번째 재귀 함수를 호출합니다\n",
      "22 번째 재귀 함수에서 23 번째 재귀 함수를 호출합니다\n",
      "23 번째 재귀 함수에서 24 번째 재귀 함수를 호출합니다\n",
      "24 번째 재귀 함수에서 25 번째 재귀 함수를 호출합니다\n",
      "25 번째 재귀 함수에서 26 번째 재귀 함수를 호출합니다\n",
      "26 번째 재귀 함수에서 27 번째 재귀 함수를 호출합니다\n",
      "27 번째 재귀 함수에서 28 번째 재귀 함수를 호출합니다\n",
      "28 번째 재귀 함수에서 29 번째 재귀 함수를 호출합니다\n",
      "29 번째 재귀 함수에서 30 번째 재귀 함수를 호출합니다\n",
      "30 번째 재귀 함수에서 31 번째 재귀 함수를 호출합니다\n",
      "31 번째 재귀 함수에서 32 번째 재귀 함수를 호출합니다\n",
      "32 번째 재귀 함수에서 33 번째 재귀 함수를 호출합니다\n",
      "33 번째 재귀 함수에서 34 번째 재귀 함수를 호출합니다\n",
      "34 번째 재귀 함수에서 35 번째 재귀 함수를 호출합니다\n",
      "35 번째 재귀 함수에서 36 번째 재귀 함수를 호출합니다\n",
      "36 번째 재귀 함수에서 37 번째 재귀 함수를 호출합니다\n",
      "37 번째 재귀 함수에서 38 번째 재귀 함수를 호출합니다\n",
      "38 번째 재귀 함수에서 39 번째 재귀 함수를 호출합니다\n",
      "39 번째 재귀 함수에서 40 번째 재귀 함수를 호출합니다\n",
      "40 번째 재귀 함수에서 41 번째 재귀 함수를 호출합니다\n",
      "41 번째 재귀 함수에서 42 번째 재귀 함수를 호출합니다\n",
      "42 번째 재귀 함수에서 43 번째 재귀 함수를 호출합니다\n",
      "43 번째 재귀 함수에서 44 번째 재귀 함수를 호출합니다\n",
      "44 번째 재귀 함수에서 45 번째 재귀 함수를 호출합니다\n",
      "45 번째 재귀 함수에서 46 번째 재귀 함수를 호출합니다\n",
      "46 번째 재귀 함수에서 47 번째 재귀 함수를 호출합니다\n",
      "47 번째 재귀 함수에서 48 번째 재귀 함수를 호출합니다\n",
      "48 번째 재귀 함수에서 49 번째 재귀 함수를 호출합니다\n",
      "49 번째 재귀 함수에서 50 번째 재귀 함수를 호출합니다\n",
      "50 번째 재귀 함수에서 51 번째 재귀 함수를 호출합니다\n",
      "51 번째 재귀 함수에서 52 번째 재귀 함수를 호출합니다\n",
      "52 번째 재귀 함수에서 53 번째 재귀 함수를 호출합니다\n",
      "53 번째 재귀 함수에서 54 번째 재귀 함수를 호출합니다\n",
      "54 번째 재귀 함수에서 55 번째 재귀 함수를 호출합니다\n",
      "55 번째 재귀 함수에서 56 번째 재귀 함수를 호출합니다\n",
      "56 번째 재귀 함수에서 57 번째 재귀 함수를 호출합니다\n",
      "57 번째 재귀 함수에서 58 번째 재귀 함수를 호출합니다\n",
      "58 번째 재귀 함수에서 59 번째 재귀 함수를 호출합니다\n",
      "59 번째 재귀 함수에서 60 번째 재귀 함수를 호출합니다\n",
      "60 번째 재귀 함수에서 61 번째 재귀 함수를 호출합니다\n",
      "61 번째 재귀 함수에서 62 번째 재귀 함수를 호출합니다\n",
      "62 번째 재귀 함수에서 63 번째 재귀 함수를 호출합니다\n",
      "63 번째 재귀 함수에서 64 번째 재귀 함수를 호출합니다\n",
      "64 번째 재귀 함수에서 65 번째 재귀 함수를 호출합니다\n",
      "65 번째 재귀 함수에서 66 번째 재귀 함수를 호출합니다\n",
      "66 번째 재귀 함수에서 67 번째 재귀 함수를 호출합니다\n",
      "67 번째 재귀 함수에서 68 번째 재귀 함수를 호출합니다\n",
      "68 번째 재귀 함수에서 69 번째 재귀 함수를 호출합니다\n",
      "69 번째 재귀 함수에서 70 번째 재귀 함수를 호출합니다\n",
      "70 번째 재귀 함수에서 71 번째 재귀 함수를 호출합니다\n",
      "71 번째 재귀 함수에서 72 번째 재귀 함수를 호출합니다\n",
      "72 번째 재귀 함수에서 73 번째 재귀 함수를 호출합니다\n",
      "73 번째 재귀 함수에서 74 번째 재귀 함수를 호출합니다\n",
      "74 번째 재귀 함수에서 75 번째 재귀 함수를 호출합니다\n",
      "75 번째 재귀 함수에서 76 번째 재귀 함수를 호출합니다\n",
      "76 번째 재귀 함수에서 77 번째 재귀 함수를 호출합니다\n",
      "77 번째 재귀 함수에서 78 번째 재귀 함수를 호출합니다\n",
      "78 번째 재귀 함수에서 79 번째 재귀 함수를 호출합니다\n",
      "79 번째 재귀 함수에서 80 번째 재귀 함수를 호출합니다\n",
      "80 번째 재귀 함수에서 81 번째 재귀 함수를 호출합니다\n",
      "81 번째 재귀 함수에서 82 번째 재귀 함수를 호출합니다\n",
      "82 번째 재귀 함수에서 83 번째 재귀 함수를 호출합니다\n",
      "83 번째 재귀 함수에서 84 번째 재귀 함수를 호출합니다\n",
      "84 번째 재귀 함수에서 85 번째 재귀 함수를 호출합니다\n",
      "85 번째 재귀 함수에서 86 번째 재귀 함수를 호출합니다\n",
      "86 번째 재귀 함수에서 87 번째 재귀 함수를 호출합니다\n",
      "87 번째 재귀 함수에서 88 번째 재귀 함수를 호출합니다\n",
      "88 번째 재귀 함수에서 89 번째 재귀 함수를 호출합니다\n",
      "89 번째 재귀 함수에서 90 번째 재귀 함수를 호출합니다\n",
      "90 번째 재귀 함수에서 91 번째 재귀 함수를 호출합니다\n",
      "91 번째 재귀 함수에서 92 번째 재귀 함수를 호출합니다\n",
      "92 번째 재귀 함수에서 93 번째 재귀 함수를 호출합니다\n",
      "93 번째 재귀 함수에서 94 번째 재귀 함수를 호출합니다\n",
      "94 번째 재귀 함수에서 95 번째 재귀 함수를 호출합니다\n",
      "95 번째 재귀 함수에서 96 번째 재귀 함수를 호출합니다\n",
      "96 번째 재귀 함수에서 97 번째 재귀 함수를 호출합니다\n",
      "97 번째 재귀 함수에서 98 번째 재귀 함수를 호출합니다\n",
      "98 번째 재귀 함수에서 99 번째 재귀 함수를 호출합니다\n",
      "99 번째 재귀 함수에서 100 번째 재귀 함수를 호출합니다\n",
      "99 번째 재귀 함수를 종료합니다.\n",
      "98 번째 재귀 함수를 종료합니다.\n",
      "97 번째 재귀 함수를 종료합니다.\n",
      "96 번째 재귀 함수를 종료합니다.\n",
      "95 번째 재귀 함수를 종료합니다.\n",
      "94 번째 재귀 함수를 종료합니다.\n",
      "93 번째 재귀 함수를 종료합니다.\n",
      "92 번째 재귀 함수를 종료합니다.\n",
      "91 번째 재귀 함수를 종료합니다.\n",
      "90 번째 재귀 함수를 종료합니다.\n",
      "89 번째 재귀 함수를 종료합니다.\n",
      "88 번째 재귀 함수를 종료합니다.\n",
      "87 번째 재귀 함수를 종료합니다.\n",
      "86 번째 재귀 함수를 종료합니다.\n",
      "85 번째 재귀 함수를 종료합니다.\n",
      "84 번째 재귀 함수를 종료합니다.\n",
      "83 번째 재귀 함수를 종료합니다.\n",
      "82 번째 재귀 함수를 종료합니다.\n",
      "81 번째 재귀 함수를 종료합니다.\n",
      "80 번째 재귀 함수를 종료합니다.\n",
      "79 번째 재귀 함수를 종료합니다.\n",
      "78 번째 재귀 함수를 종료합니다.\n",
      "77 번째 재귀 함수를 종료합니다.\n",
      "76 번째 재귀 함수를 종료합니다.\n",
      "75 번째 재귀 함수를 종료합니다.\n",
      "74 번째 재귀 함수를 종료합니다.\n",
      "73 번째 재귀 함수를 종료합니다.\n",
      "72 번째 재귀 함수를 종료합니다.\n",
      "71 번째 재귀 함수를 종료합니다.\n",
      "70 번째 재귀 함수를 종료합니다.\n",
      "69 번째 재귀 함수를 종료합니다.\n",
      "68 번째 재귀 함수를 종료합니다.\n",
      "67 번째 재귀 함수를 종료합니다.\n",
      "66 번째 재귀 함수를 종료합니다.\n",
      "65 번째 재귀 함수를 종료합니다.\n",
      "64 번째 재귀 함수를 종료합니다.\n",
      "63 번째 재귀 함수를 종료합니다.\n",
      "62 번째 재귀 함수를 종료합니다.\n",
      "61 번째 재귀 함수를 종료합니다.\n",
      "60 번째 재귀 함수를 종료합니다.\n",
      "59 번째 재귀 함수를 종료합니다.\n",
      "58 번째 재귀 함수를 종료합니다.\n",
      "57 번째 재귀 함수를 종료합니다.\n",
      "56 번째 재귀 함수를 종료합니다.\n",
      "55 번째 재귀 함수를 종료합니다.\n",
      "54 번째 재귀 함수를 종료합니다.\n",
      "53 번째 재귀 함수를 종료합니다.\n",
      "52 번째 재귀 함수를 종료합니다.\n",
      "51 번째 재귀 함수를 종료합니다.\n",
      "50 번째 재귀 함수를 종료합니다.\n",
      "49 번째 재귀 함수를 종료합니다.\n",
      "48 번째 재귀 함수를 종료합니다.\n",
      "47 번째 재귀 함수를 종료합니다.\n",
      "46 번째 재귀 함수를 종료합니다.\n",
      "45 번째 재귀 함수를 종료합니다.\n",
      "44 번째 재귀 함수를 종료합니다.\n",
      "43 번째 재귀 함수를 종료합니다.\n",
      "42 번째 재귀 함수를 종료합니다.\n",
      "41 번째 재귀 함수를 종료합니다.\n",
      "40 번째 재귀 함수를 종료합니다.\n",
      "39 번째 재귀 함수를 종료합니다.\n",
      "38 번째 재귀 함수를 종료합니다.\n",
      "37 번째 재귀 함수를 종료합니다.\n",
      "36 번째 재귀 함수를 종료합니다.\n",
      "35 번째 재귀 함수를 종료합니다.\n",
      "34 번째 재귀 함수를 종료합니다.\n",
      "33 번째 재귀 함수를 종료합니다.\n",
      "32 번째 재귀 함수를 종료합니다.\n",
      "31 번째 재귀 함수를 종료합니다.\n",
      "30 번째 재귀 함수를 종료합니다.\n",
      "29 번째 재귀 함수를 종료합니다.\n",
      "28 번째 재귀 함수를 종료합니다.\n",
      "27 번째 재귀 함수를 종료합니다.\n",
      "26 번째 재귀 함수를 종료합니다.\n",
      "25 번째 재귀 함수를 종료합니다.\n",
      "24 번째 재귀 함수를 종료합니다.\n",
      "23 번째 재귀 함수를 종료합니다.\n",
      "22 번째 재귀 함수를 종료합니다.\n",
      "21 번째 재귀 함수를 종료합니다.\n",
      "20 번째 재귀 함수를 종료합니다.\n",
      "19 번째 재귀 함수를 종료합니다.\n",
      "18 번째 재귀 함수를 종료합니다.\n",
      "17 번째 재귀 함수를 종료합니다.\n",
      "16 번째 재귀 함수를 종료합니다.\n",
      "15 번째 재귀 함수를 종료합니다.\n",
      "14 번째 재귀 함수를 종료합니다.\n",
      "13 번째 재귀 함수를 종료합니다.\n",
      "12 번째 재귀 함수를 종료합니다.\n",
      "11 번째 재귀 함수를 종료합니다.\n",
      "10 번째 재귀 함수를 종료합니다.\n",
      "9 번째 재귀 함수를 종료합니다.\n",
      "8 번째 재귀 함수를 종료합니다.\n",
      "7 번째 재귀 함수를 종료합니다.\n",
      "6 번째 재귀 함수를 종료합니다.\n",
      "5 번째 재귀 함수를 종료합니다.\n",
      "4 번째 재귀 함수를 종료합니다.\n",
      "3 번째 재귀 함수를 종료합니다.\n",
      "2 번째 재귀 함수를 종료합니다.\n",
      "1 번째 재귀 함수를 종료합니다.\n"
     ]
    }
   ],
   "source": [
    "#example of recursive function\n",
    "def recursive_function(i):\n",
    "    #100번째 출력했을 때 종료가 되도록 종료 조건을 명시해보자\n",
    "    if i == 100:\n",
    "        return\n",
    "    print(i, '번째 재귀 함수에서', i+1, '번째 재귀 함수를 호출합니다')\n",
    "    recursive_function(i+1)\n",
    "    print(i, '번째 재귀 함수를 종료합니다.')\n",
    "recursive_function(1)"
   ]
  },
  {
   "cell_type": "code",
   "execution_count": null,
   "id": "handmade-newsletter",
   "metadata": {},
   "outputs": [],
   "source": [
    "# factorial example with iterative method and recursive method\n",
    "\n",
    "#반복적으로 구현한 n!\n",
    "def factorial_iterative(n):\n",
    "    result = 1\n",
    "    #1부터 n까지의 수를 차례대로 곱하기\n",
    "    for i in range(1, n+1):\n",
    "        result *= i\n",
    "    return result\n",
    "\n",
    "#재귀적으로 구현한 n!\n",
    "def factorial_recursive(n):\n",
    "    if n <= 1: #n이 1 이하인 경우에는\n",
    "        return 1 #그냥 1을 반환\n",
    "    #n! = n * (n-1)! 이라는 공식을 그대로 코드로 작성하기\n",
    "    return n * factorial_recursive(n-1)\n",
    "\n",
    "#각각의 방식으로 구현한 n! 을 출력해보자. (n=5라고 하고)\n",
    "print('반복식으로 구현: ', factorial_iterative(5))\n",
    "print('재귀식으로 구현: ', factorial_recursive(5))"
   ]
  },
  {
   "cell_type": "markdown",
   "id": "numeric-guatemala",
   "metadata": {},
   "source": [
    "### 4. Search Algorithm - DFS/BFS"
   ]
  },
  {
   "cell_type": "markdown",
   "id": "constant-pregnancy",
   "metadata": {},
   "source": [
    "##### Graph expression(node, edge)\n",
    "- Adjacency Matrix expression\n",
    "- Adjacency List expression"
   ]
  },
  {
   "cell_type": "code",
   "execution_count": 6,
   "id": "behavioral-egyptian",
   "metadata": {},
   "outputs": [
    {
     "name": "stdout",
     "output_type": "stream",
     "text": [
      "[[0, 7, 5], [7, 0, 99999999999], [5, 99999999999, 0]]\n"
     ]
    }
   ],
   "source": [
    "# Graph with adjacency matrix\n",
    "INF = 99999999999 #무한의 비용을 선언해준다. 즉, 연결되어 있지 않은 node들 끼리 비용을 나타내기 위함\n",
    "\n",
    "# 2차원 리스트를 이용하여 인접 행렬 표현을 사용한다\n",
    "graph=[\n",
    "    [0,7,5],\n",
    "    [7,0,INF],\n",
    "    [5,INF,0]\n",
    "]\n",
    "\n",
    "print(graph)"
   ]
  },
  {
   "cell_type": "code",
   "execution_count": 7,
   "id": "guided-elizabeth",
   "metadata": {},
   "outputs": [
    {
     "name": "stdout",
     "output_type": "stream",
     "text": [
      "[[(1, 7), (2, 5)], [(0, 7)], [(0, 5)]]\n"
     ]
    }
   ],
   "source": [
    "# Graph with adjacency list\n",
    "\n",
    "#  행이 3개인 2차원 리스트로 인접 리스트를 표현해보자. \n",
    "graph = [[] for _ in range(3)]\n",
    "\n",
    "# 노드 0에 연결된 노드 정보 저장 (노드, 거리)\n",
    "graph[0].append((1, 7))\n",
    "graph[0].append((2, 5))\n",
    "\n",
    "# 노드 1에 연결된 노드 정보 저장 (노드, 거리)\n",
    "graph[1].append((0, 7))\n",
    "\n",
    "# 노드 2에 연결된 노드 정보 저장 (노드, 거리)\n",
    "graph[2].append((0, 5))\n",
    "\n",
    "print(graph)"
   ]
  },
  {
   "cell_type": "markdown",
   "id": "monthly-bristol",
   "metadata": {},
   "source": [
    "##### DFS(Depth First Search)\n",
    "- 기본적으로 스택 자료구조를 이용한다.\n",
    "1. 탐색 시작 노드를 스택에 삽입하고 방문 처리를 한다.\n",
    "2. 스택의 최상단 노드에 방문하지 않은 인접 노드가 있으면 그 인접 노드를 스택에 넣고 방문 처리를 한다. 방문하지 않은 인접 노드가 없으면 스택에서 최상단 노드를 꺼낸다.\n",
    "3. 2번의 과정을 더 이상 수행할 수 없을때까지 반복한다."
   ]
  },
  {
   "cell_type": "code",
   "execution_count": 8,
   "id": "offensive-bicycle",
   "metadata": {},
   "outputs": [
    {
     "name": "stdout",
     "output_type": "stream",
     "text": [
      "1 2 7 6 8 3 4 5 "
     ]
    }
   ],
   "source": [
    "# Defining Depth First Search method\n",
    "def dfs(graph, v, visited):\n",
    "    #현재 노드를 방문 처리\n",
    "    visited[v] = True\n",
    "    print(v, end=' ')\n",
    "    #현재 노드와 연결된 다른 노드를 재귀적으로 방문한다\n",
    "    for i in graph[v]:\n",
    "        if not visited[i]:\n",
    "            dfs(graph, i, visited)\n",
    "\n",
    "# 각 노드가 연결된 정보를 리스트 자료형으로 표현(2차원 리스트)\n",
    "graph =[\n",
    "    [],\n",
    "    [2,3,8],\n",
    "    [1,7],\n",
    "    [1,4,5],\n",
    "    [3,5],\n",
    "    [3,4],\n",
    "    [7],\n",
    "    [2,6,8],\n",
    "    [1,7]\n",
    "]\n",
    "\n",
    "#각 노드가 방문된 정보를 리스트 자료형으로 표현 (1차원 리스트)\n",
    "visited = [False] * 9\n",
    "\n",
    "#정의된 DFS 함수 호출\n",
    "dfs(graph, 1, visited)"
   ]
  },
  {
   "cell_type": "markdown",
   "id": "median-tutorial",
   "metadata": {},
   "source": [
    "##### BFS(Breadth First Search)\n",
    "- 너비 우선 탐색, 즉 가까운 노드부터 탐색하는 알고리즘이다.\n",
    "- 기본적으로 선입선출 방식인 큐 자료구조를 이용한다.\n",
    "1. 탐색 시작 노드를 큐에 삽입하고 방문 처리를 한다.\n",
    "2. 큐에서 노드를 꺼내 해당 노드의 인접 노드 중에서 방문하지 않은 노드를 모두 큐에 삽입하고 방문 처리를 한다.\n",
    "3. 2번의 과정을 더 이상 수행할 수 없을 때까지 반복한다."
   ]
  },
  {
   "cell_type": "code",
   "execution_count": 9,
   "id": "developmental-safety",
   "metadata": {},
   "outputs": [
    {
     "name": "stdout",
     "output_type": "stream",
     "text": [
      "1 2 3 8 7 4 5 6 "
     ]
    }
   ],
   "source": [
    "# Defining Breadth First Search method\n",
    "\n",
    "from collections import deque\n",
    "\n",
    "def bfs(graph, start, visited):\n",
    "    #Queue 구현을 위해 deque 라이브러리를 사용\n",
    "    queue = deque([start])\n",
    "    #현재 노드를 방문처리\n",
    "    visited[start]=True\n",
    "    #큐가 빌 때까지 반복한다\n",
    "    while queue:\n",
    "        #큐에서 하나의 원소를 뽑아서 출력한다\n",
    "        v = queue.popleft()\n",
    "        print(v, end=' ')\n",
    "        #해당 원소와 연결된, 아직 방문하지 않은 원소들을 큐에 삽입해준다\n",
    "        for i in graph[v]:\n",
    "            if not visited[i]:\n",
    "                queue.append(i)\n",
    "                visited[i]=True\n",
    "                \n",
    "#각 노드가 연결된 정보를 리스트 자료형으로 표현한다 (2차원 리스트)\n",
    "graph =[\n",
    "    [],\n",
    "    [2,3,8],\n",
    "    [1,7],\n",
    "    [1,4,5],\n",
    "    [3,5],\n",
    "    [3,4],\n",
    "    [7],\n",
    "    [2,6,8],\n",
    "    [1,7]\n",
    "]\n",
    "\n",
    "#각 노드가 방문된 정보를 리스트 자료형으로 표현 (1차원 리스트)\n",
    "visited = [False] * 9\n",
    "\n",
    "#정의된 DFS 함수 호출\n",
    "bfs(graph, 1, visited)"
   ]
  },
  {
   "cell_type": "markdown",
   "id": "known-attendance",
   "metadata": {},
   "source": [
    "### 5. 아이스크림 만들기 문제\n",
    "- nxm 크기의 얼음 틀\n",
    "- 구멍 부분은 0, 칸막이 부분은 1로 표시. \n",
    "- 얼음틀의 모양이 주어졌을 때 생성되는 총 아이스크림의 개수는?"
   ]
  },
  {
   "cell_type": "markdown",
   "id": "tender-moderator",
   "metadata": {},
   "source": [
    "- Depth First Search 를 사용하면 어떨까\n",
    "1. 특정 지점의 주변을 살펴 값이 0이면서 아직 방문하지 않은 node가 있으면 방문한다.\n",
    "2. 방문한 node에서 다시 주변을 살펴보며 방문을 진행하여, 아직 방문하지 않은 node가 없도록 한다.\n",
    "3. 1~2번 과정을 반복하며 방문하지 않은 지점의 수를 센다."
   ]
  },
  {
   "cell_type": "code",
   "execution_count": 19,
   "id": "touched-alberta",
   "metadata": {},
   "outputs": [
    {
     "name": "stdout",
     "output_type": "stream",
     "text": [
      "3 3\n",
      "001\n",
      "010\n",
      "101\n"
     ]
    },
    {
     "ename": "RecursionError",
     "evalue": "maximum recursion depth exceeded in comparison",
     "output_type": "error",
     "traceback": [
      "\u001b[1;31m---------------------------------------------------------------------------\u001b[0m",
      "\u001b[1;31mRecursionError\u001b[0m                            Traceback (most recent call last)",
      "\u001b[1;32m<ipython-input-19-abf688f4a3da>\u001b[0m in \u001b[0;36m<module>\u001b[1;34m\u001b[0m\n\u001b[0;32m     29\u001b[0m     \u001b[1;32mfor\u001b[0m \u001b[0mj\u001b[0m \u001b[1;32min\u001b[0m \u001b[0mrange\u001b[0m\u001b[1;33m(\u001b[0m\u001b[0mm\u001b[0m\u001b[1;33m)\u001b[0m\u001b[1;33m:\u001b[0m\u001b[1;33m\u001b[0m\u001b[1;33m\u001b[0m\u001b[0m\n\u001b[0;32m     30\u001b[0m         \u001b[1;31m#현재 위치에서 DFS 수행한다\u001b[0m\u001b[1;33m\u001b[0m\u001b[1;33m\u001b[0m\u001b[1;33m\u001b[0m\u001b[0m\n\u001b[1;32m---> 31\u001b[1;33m         \u001b[1;32mif\u001b[0m \u001b[0mdfs\u001b[0m\u001b[1;33m(\u001b[0m\u001b[0mi\u001b[0m\u001b[1;33m,\u001b[0m \u001b[0mj\u001b[0m\u001b[1;33m)\u001b[0m \u001b[1;33m==\u001b[0m \u001b[1;32mTrue\u001b[0m\u001b[1;33m:\u001b[0m\u001b[1;33m\u001b[0m\u001b[1;33m\u001b[0m\u001b[0m\n\u001b[0m\u001b[0;32m     32\u001b[0m             \u001b[0mresult\u001b[0m \u001b[1;33m+=\u001b[0m \u001b[1;36m1\u001b[0m\u001b[1;33m\u001b[0m\u001b[1;33m\u001b[0m\u001b[0m\n\u001b[0;32m     33\u001b[0m \u001b[1;33m\u001b[0m\u001b[0m\n",
      "\u001b[1;32m<ipython-input-19-abf688f4a3da>\u001b[0m in \u001b[0;36mdfs\u001b[1;34m(x, y)\u001b[0m\n\u001b[0;32m     19\u001b[0m         \u001b[0mdfs\u001b[0m\u001b[1;33m(\u001b[0m\u001b[0mx\u001b[0m \u001b[1;33m-\u001b[0m \u001b[1;36m1\u001b[0m\u001b[1;33m,\u001b[0m \u001b[0my\u001b[0m\u001b[1;33m)\u001b[0m\u001b[1;33m\u001b[0m\u001b[1;33m\u001b[0m\u001b[0m\n\u001b[0;32m     20\u001b[0m         \u001b[0mdfs\u001b[0m\u001b[1;33m(\u001b[0m\u001b[0mx\u001b[0m\u001b[1;33m,\u001b[0m \u001b[0my\u001b[0m \u001b[1;33m-\u001b[0m \u001b[1;36m1\u001b[0m\u001b[1;33m)\u001b[0m\u001b[1;33m\u001b[0m\u001b[1;33m\u001b[0m\u001b[0m\n\u001b[1;32m---> 21\u001b[1;33m         \u001b[0mdfs\u001b[0m\u001b[1;33m(\u001b[0m\u001b[0mx\u001b[0m \u001b[1;33m+\u001b[0m \u001b[1;36m1\u001b[0m\u001b[1;33m,\u001b[0m \u001b[0my\u001b[0m\u001b[1;33m)\u001b[0m\u001b[1;33m\u001b[0m\u001b[1;33m\u001b[0m\u001b[0m\n\u001b[0m\u001b[0;32m     22\u001b[0m         \u001b[0mdfs\u001b[0m\u001b[1;33m(\u001b[0m\u001b[0mx\u001b[0m\u001b[1;33m,\u001b[0m \u001b[0my\u001b[0m \u001b[1;33m+\u001b[0m \u001b[1;36m1\u001b[0m\u001b[1;33m)\u001b[0m\u001b[1;33m\u001b[0m\u001b[1;33m\u001b[0m\u001b[0m\n\u001b[0;32m     23\u001b[0m         \u001b[1;32mreturn\u001b[0m \u001b[1;32mTrue\u001b[0m\u001b[1;33m\u001b[0m\u001b[1;33m\u001b[0m\u001b[0m\n",
      "\u001b[1;32m<ipython-input-19-abf688f4a3da>\u001b[0m in \u001b[0;36mdfs\u001b[1;34m(x, y)\u001b[0m\n\u001b[0;32m     17\u001b[0m         \u001b[0mgraph\u001b[0m\u001b[1;33m[\u001b[0m\u001b[0mx\u001b[0m\u001b[1;33m]\u001b[0m\u001b[1;33m[\u001b[0m\u001b[0my\u001b[0m\u001b[1;33m]\u001b[0m \u001b[1;33m==\u001b[0m \u001b[1;36m1\u001b[0m\u001b[1;33m\u001b[0m\u001b[1;33m\u001b[0m\u001b[0m\n\u001b[0;32m     18\u001b[0m         \u001b[1;31m#주변 위치들을 모두 재귀적으로 호출한다\u001b[0m\u001b[1;33m\u001b[0m\u001b[1;33m\u001b[0m\u001b[1;33m\u001b[0m\u001b[0m\n\u001b[1;32m---> 19\u001b[1;33m         \u001b[0mdfs\u001b[0m\u001b[1;33m(\u001b[0m\u001b[0mx\u001b[0m \u001b[1;33m-\u001b[0m \u001b[1;36m1\u001b[0m\u001b[1;33m,\u001b[0m \u001b[0my\u001b[0m\u001b[1;33m)\u001b[0m\u001b[1;33m\u001b[0m\u001b[1;33m\u001b[0m\u001b[0m\n\u001b[0m\u001b[0;32m     20\u001b[0m         \u001b[0mdfs\u001b[0m\u001b[1;33m(\u001b[0m\u001b[0mx\u001b[0m\u001b[1;33m,\u001b[0m \u001b[0my\u001b[0m \u001b[1;33m-\u001b[0m \u001b[1;36m1\u001b[0m\u001b[1;33m)\u001b[0m\u001b[1;33m\u001b[0m\u001b[1;33m\u001b[0m\u001b[0m\n\u001b[0;32m     21\u001b[0m         \u001b[0mdfs\u001b[0m\u001b[1;33m(\u001b[0m\u001b[0mx\u001b[0m \u001b[1;33m+\u001b[0m \u001b[1;36m1\u001b[0m\u001b[1;33m,\u001b[0m \u001b[0my\u001b[0m\u001b[1;33m)\u001b[0m\u001b[1;33m\u001b[0m\u001b[1;33m\u001b[0m\u001b[0m\n",
      "... last 2 frames repeated, from the frame below ...\n",
      "\u001b[1;32m<ipython-input-19-abf688f4a3da>\u001b[0m in \u001b[0;36mdfs\u001b[1;34m(x, y)\u001b[0m\n\u001b[0;32m     19\u001b[0m         \u001b[0mdfs\u001b[0m\u001b[1;33m(\u001b[0m\u001b[0mx\u001b[0m \u001b[1;33m-\u001b[0m \u001b[1;36m1\u001b[0m\u001b[1;33m,\u001b[0m \u001b[0my\u001b[0m\u001b[1;33m)\u001b[0m\u001b[1;33m\u001b[0m\u001b[1;33m\u001b[0m\u001b[0m\n\u001b[0;32m     20\u001b[0m         \u001b[0mdfs\u001b[0m\u001b[1;33m(\u001b[0m\u001b[0mx\u001b[0m\u001b[1;33m,\u001b[0m \u001b[0my\u001b[0m \u001b[1;33m-\u001b[0m \u001b[1;36m1\u001b[0m\u001b[1;33m)\u001b[0m\u001b[1;33m\u001b[0m\u001b[1;33m\u001b[0m\u001b[0m\n\u001b[1;32m---> 21\u001b[1;33m         \u001b[0mdfs\u001b[0m\u001b[1;33m(\u001b[0m\u001b[0mx\u001b[0m \u001b[1;33m+\u001b[0m \u001b[1;36m1\u001b[0m\u001b[1;33m,\u001b[0m \u001b[0my\u001b[0m\u001b[1;33m)\u001b[0m\u001b[1;33m\u001b[0m\u001b[1;33m\u001b[0m\u001b[0m\n\u001b[0m\u001b[0;32m     22\u001b[0m         \u001b[0mdfs\u001b[0m\u001b[1;33m(\u001b[0m\u001b[0mx\u001b[0m\u001b[1;33m,\u001b[0m \u001b[0my\u001b[0m \u001b[1;33m+\u001b[0m \u001b[1;36m1\u001b[0m\u001b[1;33m)\u001b[0m\u001b[1;33m\u001b[0m\u001b[1;33m\u001b[0m\u001b[0m\n\u001b[0;32m     23\u001b[0m         \u001b[1;32mreturn\u001b[0m \u001b[1;32mTrue\u001b[0m\u001b[1;33m\u001b[0m\u001b[1;33m\u001b[0m\u001b[0m\n",
      "\u001b[1;31mRecursionError\u001b[0m: maximum recursion depth exceeded in comparison"
     ]
    }
   ],
   "source": [
    "# n,m을 공백으로 구분하여 입력받기\n",
    "n, m = map(int, input().split())\n",
    "\n",
    "#2차원 리스트의 맵 정보 입력받기\n",
    "graph=[] # empty graph 형성하고\n",
    "for i in range(n): #n개의 행에 대해서 입력받아\n",
    "    graph.append(list(map(int, input()))) #공백이 없이 그냥 숫자로 쭉 들어오니까 input().split() 말고 그냥 input()\n",
    "\n",
    "#DFS로 특정한 노드를 방문한 뒤에 연결된 모든 노드들도 방문\n",
    "def dfs(x,y):\n",
    "    #주어진 범위를 벗어나는 경우에는 즉시 종료한다.\n",
    "    if x <= -1 or x >= n or y <= -1 or y >= m:\n",
    "        return False\n",
    "    #현재 노드를 아직 방문하지 않았다면\n",
    "    if graph[x][y] == 0:\n",
    "        #해당 노드 방문 처리\n",
    "        graph[x][y] == 1\n",
    "        #주변 위치들을 모두 재귀적으로 호출한다\n",
    "        dfs(x - 1, y)\n",
    "        dfs(x, y - 1)\n",
    "        dfs(x + 1, y)\n",
    "        dfs(x, y + 1)\n",
    "        return True\n",
    "    return False\n",
    "\n",
    "#모든 node에 대해서 아이스크림 채우기\n",
    "result = 0\n",
    "for i in range(n):\n",
    "    for j in range(m):\n",
    "        #현재 위치에서 DFS 수행한다\n",
    "        if dfs(i, j) == True:\n",
    "            result += 1\n",
    "\n",
    "print(result)"
   ]
  },
  {
   "cell_type": "markdown",
   "id": "induced-combat",
   "metadata": {},
   "source": [
    "### 6. 미로탈출 문제\n",
    "- nxm 크기의 직사각형 형태의 미로. 미로에는 장애물들이 있음\n",
    "- 장애물 부분은 0, 없는 길은 1로 표시.\n",
    "- 탈출하기 위해 움직여야 하는 최소 칸의 개수는?"
   ]
  },
  {
   "cell_type": "code",
   "execution_count": 15,
   "id": "figured-seafood",
   "metadata": {},
   "outputs": [
    {
     "name": "stdout",
     "output_type": "stream",
     "text": [
      "5 6\n",
      "101010\n",
      "111111\n",
      "000001\n",
      "111111\n",
      "111111\n",
      "10\n"
     ]
    }
   ],
   "source": [
    "# BFS를 이용하여 해결해보자. (가까운 노드부터 차례로 모두 탐색하니까)\n",
    "\n",
    "from collections import deque\n",
    "\n",
    "#n,m을 공백으로 구분하여 입력받기\n",
    "n,m = map(int, input().split())\n",
    "#2차원 리스트의 맵 정보 입력받기\n",
    "graph=[]\n",
    "for i in range(n):\n",
    "    graph.append(list(map(int,input())))\n",
    "\n",
    "#주위의 상하좌우 4가지 방향\n",
    "dx = [-1, 1, 0, 0]\n",
    "dy = [0, 0, -1, 1]\n",
    "\n",
    "# Defining BFS\n",
    "def bfs(x, y):\n",
    "    #using deque library\n",
    "    queue = deque()\n",
    "    queue.append((x,y))\n",
    "    #큐가 빌 때까지 반복\n",
    "    while queue:\n",
    "        x,y = queue.popleft()\n",
    "        \n",
    "        for i in range(4):\n",
    "            nx = x + dx[i]\n",
    "            ny = y + dy[i]\n",
    "            #만약에 미로 공간을 벗어나면 무시\n",
    "            if nx <0 or ny <0 or nx >=n or ny >=m:\n",
    "                continue\n",
    "            #장애물이 있으면 무시\n",
    "            if graph[nx][ny] ==0:\n",
    "                continue\n",
    "            #해당 노드를 처음 방문하는 경우에만 최단거리로 기록\n",
    "            if graph[nx][ny] ==1:\n",
    "                graph[nx][ny] = graph[x][y] + 1\n",
    "                queue.append((nx,ny))\n",
    "    #가장 오른쪽 아래까지의 최단거리 반환\n",
    "    return graph[n-1][m-1]\n",
    "\n",
    "print(bfs(0,0))"
   ]
  },
  {
   "cell_type": "markdown",
   "id": "solid-english",
   "metadata": {},
   "source": [
    "##### Check Point\n",
    "- 기본적인 자료구조 함수들 (stack, queue, graph, linked list, Graph, DFS, BFS)\n",
    "- collections 모듈의 deque\n",
    "- iterative function vs recursive function"
   ]
  }
 ],
 "metadata": {
  "kernelspec": {
   "display_name": "Python 3",
   "language": "python",
   "name": "python3"
  },
  "language_info": {
   "codemirror_mode": {
    "name": "ipython",
    "version": 3
   },
   "file_extension": ".py",
   "mimetype": "text/x-python",
   "name": "python",
   "nbconvert_exporter": "python",
   "pygments_lexer": "ipython3",
   "version": "3.7.9"
  }
 },
 "nbformat": 4,
 "nbformat_minor": 5
}
