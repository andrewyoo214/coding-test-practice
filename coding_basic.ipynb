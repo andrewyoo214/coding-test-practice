{
 "cells": [
  {
   "cell_type": "markdown",
   "metadata": {},
   "source": [
    "# This is Coding Test (with python)"
   ]
  },
  {
   "cell_type": "markdown",
   "metadata": {},
   "source": [
    "## Appendix A"
   ]
  },
  {
   "cell_type": "markdown",
   "metadata": {},
   "source": [
    "### 1. 자료형"
   ]
  },
  {
   "cell_type": "markdown",
   "metadata": {},
   "source": [
    "##### 수 자료형"
   ]
  },
  {
   "cell_type": "code",
   "execution_count": 1,
   "metadata": {},
   "outputs": [
    {
     "name": "stdout",
     "output_type": "stream",
     "text": [
      "1000\n",
      "-7\n"
     ]
    }
   ],
   "source": [
    "#정수형\n",
    "\n",
    "a=1000 #양의 정수\n",
    "print(a)\n",
    "\n",
    "b=-7 #음의 정수\n",
    "print(b)"
   ]
  },
  {
   "cell_type": "code",
   "execution_count": 3,
   "metadata": {},
   "outputs": [
    {
     "name": "stdout",
     "output_type": "stream",
     "text": [
      "157.93\n",
      "1000000000.0\n",
      "752.5\n",
      "3.954\n"
     ]
    }
   ],
   "source": [
    "#실수형\n",
    "\n",
    "a=157.93\n",
    "print(a)\n",
    "\n",
    "b=1e9 #10의 9제곱을 나타냄\n",
    "print(b)\n",
    "\n",
    "c=75.25e1\n",
    "print(c)\n",
    "\n",
    "d=3954e-3\n",
    "print(d)"
   ]
  },
  {
   "cell_type": "code",
   "execution_count": 4,
   "metadata": {},
   "outputs": [
    {
     "name": "stdout",
     "output_type": "stream",
     "text": [
      "0.8999999999999999\n",
      "False\n"
     ]
    }
   ],
   "source": [
    "a=0.3+0.6\n",
    "print(a)\n",
    "\n",
    "if a==0.9:\n",
    "    print(True)\n",
    "else:\n",
    "    print(False)"
   ]
  },
  {
   "cell_type": "code",
   "execution_count": 6,
   "metadata": {},
   "outputs": [
    {
     "name": "stdout",
     "output_type": "stream",
     "text": [
      "0.9\n",
      "True\n"
     ]
    }
   ],
   "source": [
    "a=0.3+0.6\n",
    "print(round(a,2))\n",
    "\n",
    "if round(a,4)==0.9:\n",
    "    print(True)\n",
    "else:\n",
    "    print(False)"
   ]
  },
  {
   "cell_type": "code",
   "execution_count": 8,
   "metadata": {},
   "outputs": [
    {
     "name": "stdout",
     "output_type": "stream",
     "text": [
      "2.3333333333333335\n",
      "1\n",
      "2\n",
      "343\n"
     ]
    }
   ],
   "source": [
    "#수 자료형의 연산\n",
    "\n",
    "a=7\n",
    "b=3\n",
    "\n",
    "print(a/b) #나누기\n",
    "print(a%b) #나머지\n",
    "print(a//b) #몫\n",
    "print(a**b) #거듭제곱"
   ]
  },
  {
   "cell_type": "code",
   "execution_count": 10,
   "metadata": {},
   "outputs": [
    {
     "name": "stdout",
     "output_type": "stream",
     "text": [
      "[1, 2, 3, 4, 5, 6, 7, 8, 9]\n",
      "5\n",
      "[]\n",
      "[]\n"
     ]
    }
   ],
   "source": [
    "#리스트 자료형 - 여러개의 데이터를 연속적으로 담아 처리하기 위해 사용될 수 있음\n",
    "\n",
    "a=[1,2,3,4,5,6,7,8,9]\n",
    "print(a)\n",
    "\n",
    "print(a[4]) #인덱스 4, 즉 다섯 번째 원소에 접근\n",
    "\n",
    "b=list() #비어있는 리스트 선언 방법 1\n",
    "print(b)\n",
    "\n",
    "c=[] #비어있는 리스트 선언 방법 2\n",
    "print(c)"
   ]
  },
  {
   "cell_type": "code",
   "execution_count": 11,
   "metadata": {},
   "outputs": [
    {
     "name": "stdout",
     "output_type": "stream",
     "text": [
      "[0, 0, 0, 0, 0, 0, 0, 0, 0, 0]\n"
     ]
    }
   ],
   "source": [
    "#코딩테스트 문제에서는 주로 크기가 n인 1차원 리스트를 초기화 해야 한다.\n",
    "\n",
    "n=10\n",
    "a=[0]*n\n",
    "print(a)"
   ]
  },
  {
   "cell_type": "markdown",
   "metadata": {},
   "source": [
    "##### 리스트의 인덱싱(indexing)과 슬라이싱(slicing)"
   ]
  },
  {
   "cell_type": "code",
   "execution_count": 14,
   "metadata": {},
   "outputs": [
    {
     "name": "stdout",
     "output_type": "stream",
     "text": [
      "[1, 2, 3, 4, 5, 6, 7, 8, 9]\n",
      "9\n",
      "7\n",
      "[1, 2, 3, 7, 5, 6, 7, 8, 9]\n",
      "[2, 3, 4]\n"
     ]
    }
   ],
   "source": [
    "#리스트의 인덱싱(indexing)과 슬라이싱(slicing)\n",
    "\n",
    "a=[1,2,3,4,5,6,7,8,9]\n",
    "print(a)\n",
    "print(a[-1]) #뒤에서 첫 번째 원소 출력\n",
    "print(a[-3]) #뒤에서 세 번째 원소 출력\n",
    "\n",
    "a[3]=7 #네 번째 원소 값 변경\n",
    "print(a)\n",
    "\n",
    "a=[1,2,3,4,5,6,7,8,9]\n",
    "print(a[1:4]) #두 번째 원소부터 네 번째 원소까지 슬라이싱하기"
   ]
  },
  {
   "cell_type": "markdown",
   "metadata": {},
   "source": [
    "##### 리스트 컴프리헨션(comprehension)"
   ]
  },
  {
   "cell_type": "code",
   "execution_count": 15,
   "metadata": {},
   "outputs": [
    {
     "name": "stdout",
     "output_type": "stream",
     "text": [
      "[1, 3, 5, 7, 9, 11, 13, 15, 17, 19]\n"
     ]
    }
   ],
   "source": [
    "# 리스트 컴프리헨션(comprehension) - 리스트를 초기화하는 방법 중 하나\n",
    "## 대괄호 안에 조건문과 반복문을 넣는 방식으로 리스트를 초기화할 수 있다\n",
    "\n",
    "array=[i for i in range(20) if i%2 ==1] #0부터 19까지의 수 중에서 홀수만 포함하는 리스트\n",
    "print(array)"
   ]
  },
  {
   "cell_type": "code",
   "execution_count": 17,
   "metadata": {},
   "outputs": [
    {
     "name": "stdout",
     "output_type": "stream",
     "text": [
      "[1, 4, 9, 16, 25, 36, 49, 64, 81]\n"
     ]
    }
   ],
   "source": [
    "array=[i*i for i in range(1, 10)] #1부터 9까지의 수의 제곱 값을 포함하는 리스트\n",
    "print(array)"
   ]
  },
  {
   "cell_type": "code",
   "execution_count": 20,
   "metadata": {},
   "outputs": [
    {
     "name": "stdout",
     "output_type": "stream",
     "text": [
      "[[0, 0, 0, 0], [0, 0, 0, 0], [0, 0, 0, 0]]\n",
      "45\n",
      "Hello World\n",
      "Hello World\n",
      "Hello World\n",
      "Hello World\n",
      "Hello World\n"
     ]
    }
   ],
   "source": [
    "# 리스트 컴프리헨션은 코딩테스트에서 2차원 리스트를 초기화할 때 매우 효과적\n",
    "# 예를 들어, N x M 크기의 2차원 리스트를 초기화할 때는 다음과 같이 한다\n",
    "\n",
    "n=3\n",
    "m=4\n",
    "array=[[0]*m for _ in range(n)]\n",
    "print(array)\n",
    "\n",
    "## 여기서 언더바(_)의 역할은?\n",
    "### 파이썬 자료구조/알고리즘 에서는 반복을 수행하되 반복을 위한 변수의 값을 무시하고자 할 때 언더바를 자주 사용\n",
    "### 예를 들어, 1부터 9까지의 자연수를 더할 때는 왼쪽 예시처럼 작성하지만, 단순히 hello world 를 5번 출력할때는 아래처럼 가능하다\n",
    "\n",
    "summary=0\n",
    "for i in range (1,10):\n",
    "    summary += i\n",
    "print(summary)\n",
    "\n",
    "for _ in range(5):\n",
    "    print(\"Hello World\")\n"
   ]
  },
  {
   "cell_type": "code",
   "execution_count": 3,
   "metadata": {},
   "outputs": [
    {
     "name": "stdout",
     "output_type": "stream",
     "text": [
      "[[0, 0, 0, 0], [0, 0, 0, 0], [0, 0, 0, 0]]\n",
      "[[0, 5, 0, 0], [0, 5, 0, 0], [0, 5, 0, 0]]\n"
     ]
    }
   ],
   "source": [
    "# 특정 크기의 2차원 리스트 초기화 시에는 반드시 리스트 컴프리헨션 이용. \n",
    "# 만약 아래와 같이 NxM 크기의 2차원 리스트를 초기화 한다면, 의도하지 않은 결과 나올수도\n",
    "\n",
    "n=3\n",
    "m=4\n",
    "array = [[0] * m] * n\n",
    "print(array)\n",
    "      \n",
    "array[1][1] = 5\n",
    "print(array)"
   ]
  },
  {
   "cell_type": "code",
   "execution_count": 9,
   "metadata": {},
   "outputs": [
    {
     "name": "stdout",
     "output_type": "stream",
     "text": [
      "기본 리스트:  [1, 4, 3]\n",
      "2 원소 삽입:  [1, 4, 3, 2]\n",
      "오름차순 정렬:  [1, 2, 3, 4]\n",
      "내림차순 정렬:  [4, 3, 2, 1]\n",
      "원소 뒤집기: [1, 2, 3, 4]\n",
      "인덱스 2에 3 추가:  [1, 2, 3, 3, 4]\n",
      "값이 3인 데이터 개수:  2 개\n",
      "값이 1인 데이터 삭제:  [2, 3, 3, 4]\n"
     ]
    }
   ],
   "source": [
    "# 리스트 관련 기타 메서드\n",
    "a=[1,4,3]\n",
    "print(\"기본 리스트: \", a)\n",
    "\n",
    "# 변수명.append() : 리스트에 원소를 하나 삽입할 때 사용\n",
    "a.append(2)\n",
    "print(\"2 원소 삽입: \",a)\n",
    "\n",
    "# 변수명.sort() : 기본 정렬 기능으로 오름차순으로 정렬한다\n",
    "a.sort()\n",
    "print(\"오름차순 정렬: \", a)\n",
    "\n",
    "# 변수명.sort(reverse=True) : 내림차순으로 정렬한다\n",
    "a.sort(reverse=True)\n",
    "print(\"내림차순 정렬: \",a)\n",
    "\n",
    "# 변수명.reverse() : 리스트의 원소의 순서를 모두 뒤집어 놓는다\n",
    "a.reverse()\n",
    "print(\"원소 뒤집기:\", a)\n",
    "\n",
    "# insert(삽입할 위치 인덱스, 삽입할 값) : 특정한 인덱스 위치에 원소를 삽입할 때 사용\n",
    "a.insert(2, 3)\n",
    "print(\"인덱스 2에 3 추가: \", a)\n",
    "\n",
    "# 변수명.count(특정값) : 리스트에서 특정한 값을 가지는 데이터의 개수를 셀 때 사용한다\n",
    "print(\"값이 3인 데이터 개수: \", a.count(3), \"개\")\n",
    "\n",
    "# 변수명.remove(특정값) : 특정한 값을 갖는 원소를 제거하는 데, 값을 가진 원소가 여러개면 하나만 제거한다\n",
    "a.remove(1)\n",
    "print(\"값이 1인 데이터 삭제: \",a)"
   ]
  },
  {
   "cell_type": "code",
   "execution_count": 10,
   "metadata": {},
   "outputs": [
    {
     "name": "stdout",
     "output_type": "stream",
     "text": [
      "[1, 2, 4]\n"
     ]
    }
   ],
   "source": [
    "# 파이썬 리스트에서 여러가지 값들을 제거해주려면 어떻게 해야 할까\n",
    "a = [1,2,3,4,5,5,5]\n",
    "remove_set = {3, 5} #제거하고자 하는 원소들\n",
    "\n",
    "#remove_set에 포함되지 않은 값들만을 저장하려면?\n",
    "result = [i for i in a if i not in remove_set]\n",
    "print(result)"
   ]
  },
  {
   "cell_type": "markdown",
   "metadata": {},
   "source": [
    "##### 문자열 자료형"
   ]
  },
  {
   "cell_type": "code",
   "execution_count": 3,
   "metadata": {},
   "outputs": [
    {
     "name": "stdout",
     "output_type": "stream",
     "text": [
      "Hello World\n",
      "Don't you know \"python\"?\n"
     ]
    }
   ],
   "source": [
    "# 문자열 초기화\n",
    "data = \"Hello World\"\n",
    "print(data)\n",
    "\n",
    "data = \"Don't you know \\\"python\\\"?\"\n",
    "print(data)"
   ]
  },
  {
   "cell_type": "code",
   "execution_count": 4,
   "metadata": {},
   "outputs": [
    {
     "name": "stdout",
     "output_type": "stream",
     "text": [
      "Hello World\n"
     ]
    }
   ],
   "source": [
    "# 문자열 연산 - 문자열에 대한 연산도 지원하는데, 처리 시 유용하게 사용 가능하다\n",
    "\n",
    "a=\"Hello\"\n",
    "b=\"World\"\n",
    "print(a+ \" \" + b)"
   ]
  },
  {
   "cell_type": "code",
   "execution_count": 5,
   "metadata": {},
   "outputs": [
    {
     "name": "stdout",
     "output_type": "stream",
     "text": [
      "StringStringString\n"
     ]
    }
   ],
   "source": [
    "# 문자열 변수를 양의 정수와 곱하는 경우, 문자열이 그 값만큼 여러번 더해진다\n",
    "a = \"String\"\n",
    "print(a * 3)"
   ]
  },
  {
   "cell_type": "code",
   "execution_count": 7,
   "metadata": {},
   "outputs": [
    {
     "name": "stdout",
     "output_type": "stream",
     "text": [
      "CD\n"
     ]
    }
   ],
   "source": [
    "# 파이썬 문자열은 내부적으로 리스트와 같이 처리됨.따라서 인덱싱과 슬라이싱이 가능\n",
    "a = \"ABCDEF\"\n",
    "print(a[2:4])"
   ]
  },
  {
   "cell_type": "markdown",
   "metadata": {},
   "source": [
    "##### 튜플 자료형\n",
    "\n",
    "튜플 자료형은 기본적으로 리스트와 거의 비슷하지만 두 가지 차이가 있다.\\\n",
    "1. 튜플은 한번 선언된 값을 변경할 수 없다.\\\n",
    "2. 리스트는 대괄호 ([])를 이용하지만 튜플은 소괄호 (())를 이용한다"
   ]
  },
  {
   "cell_type": "code",
   "execution_count": 21,
   "metadata": {},
   "outputs": [
    {
     "name": "stdout",
     "output_type": "stream",
     "text": [
      "(1, 2, 3, 4)\n"
     ]
    },
    {
     "ename": "TypeError",
     "evalue": "'tuple' object does not support item assignment",
     "output_type": "error",
     "traceback": [
      "\u001b[0;31m---------------------------------------------------------------------------\u001b[0m",
      "\u001b[0;31mTypeError\u001b[0m                                 Traceback (most recent call last)",
      "\u001b[0;32m<ipython-input-21-10177ee22f22>\u001b[0m in \u001b[0;36m<module>\u001b[0;34m\u001b[0m\n\u001b[1;32m      3\u001b[0m \u001b[0mprint\u001b[0m\u001b[0;34m(\u001b[0m\u001b[0ma\u001b[0m\u001b[0;34m)\u001b[0m\u001b[0;34m\u001b[0m\u001b[0;34m\u001b[0m\u001b[0m\n\u001b[1;32m      4\u001b[0m \u001b[0;34m\u001b[0m\u001b[0m\n\u001b[0;32m----> 5\u001b[0;31m \u001b[0ma\u001b[0m\u001b[0;34m[\u001b[0m\u001b[0;36m2\u001b[0m\u001b[0;34m]\u001b[0m\u001b[0;34m=\u001b[0m\u001b[0;36m7\u001b[0m\u001b[0;34m\u001b[0m\u001b[0;34m\u001b[0m\u001b[0m\n\u001b[0m",
      "\u001b[0;31mTypeError\u001b[0m: 'tuple' object does not support item assignment"
     ]
    }
   ],
   "source": [
    "#하나의 튜플 데이터를 선언하고 값을 출력하고, 튜플의 특정한 값을 변경해보자\n",
    "a=(1,2,3,4)\n",
    "print(a)\n",
    "\n",
    "a[2]=7 "
   ]
  },
  {
   "cell_type": "markdown",
   "metadata": {},
   "source": [
    "##### 사전 자료형 - key와 value의 쌍을 데이터로 가지는 자료형\n",
    "\n",
    "키-값 쌍으로 구성된 데이터를 처리함에 있어서 리스트보다 훨씬 빠르게 동작한다\\\n",
    "훨씬 적은 메모리 공간을 사용할 수 있으며 간결해진다. "
   ]
  },
  {
   "cell_type": "code",
   "execution_count": 9,
   "metadata": {},
   "outputs": [
    {
     "name": "stdout",
     "output_type": "stream",
     "text": [
      "{'사과': 'Apple', '바나나': 'Banana', '코코넛': 'Coconut'}\n"
     ]
    }
   ],
   "source": [
    "data=dict()\n",
    "data['사과'] = 'Apple'\n",
    "data['바나나'] = 'Banana'\n",
    "data['코코넛'] = 'Coconut'\n",
    "print(data)"
   ]
  },
  {
   "cell_type": "code",
   "execution_count": 10,
   "metadata": {},
   "outputs": [
    {
     "name": "stdout",
     "output_type": "stream",
     "text": [
      "'사과'를 키로 가지는 데이터가 존재합니다\n"
     ]
    }
   ],
   "source": [
    "data=dict()\n",
    "data['사과'] = 'Apple'\n",
    "data['바나나'] = 'Banana'\n",
    "data['코코넛'] = 'Coconut'\n",
    "\n",
    "if '사과' in data:\n",
    "    print(\"'사과'를 키로 가지는 데이터가 존재합니다\")"
   ]
  },
  {
   "cell_type": "markdown",
   "metadata": {},
   "source": [
    "사전 자료형 관련 함수\\\n",
    "대표적으로 키와 값을 별도로 뽑아내기 위한 함수가 있음.\\\n",
    "키 데이터만 뽑아서 리스트로 사용 시에는 keys() 함수를, 값 데이터를 사용 시에는 values() 함수를 사용한다"
   ]
  },
  {
   "cell_type": "code",
   "execution_count": 11,
   "metadata": {},
   "outputs": [
    {
     "name": "stdout",
     "output_type": "stream",
     "text": [
      "dict_keys(['사과', '바나나', '코코넛'])\n",
      "dict_values(['Apple', 'Banana', 'Coconut'])\n",
      "Apple\n",
      "Banana\n",
      "Coconut\n"
     ]
    }
   ],
   "source": [
    "data=dict()\n",
    "data['사과'] = 'Apple'\n",
    "data['바나나'] = 'Banana'\n",
    "data['코코넛'] = 'Coconut'\n",
    "\n",
    "# 키 데이터만 담은 리스트\n",
    "key_list=data.keys()\n",
    "# 값 데이터만 담은 리스트\n",
    "value_list=data.values()\n",
    "print(key_list)\n",
    "print(value_list)\n",
    "\n",
    "# 각 키에 따른 값을 하나씩 출력\n",
    "for key in key_list:\n",
    "    print(data[key])"
   ]
  },
  {
   "cell_type": "markdown",
   "metadata": {},
   "source": [
    "##### 집합 자료형 - 집합을 처리하기 위한 자료형\n",
    "\n",
    "기본적으로 리스트 혹은 문자열을 이용해서 만드는데, 아래의 두 가지 특성을 지님\\\n",
    "1. 중복을 허용하지 않는다.\\\n",
    "2. 순서가 없다."
   ]
  },
  {
   "cell_type": "code",
   "execution_count": 13,
   "metadata": {},
   "outputs": [
    {
     "name": "stdout",
     "output_type": "stream",
     "text": [
      "{1, 3, 4, 5}\n",
      "{1, 2, 3, 4, 5}\n"
     ]
    }
   ],
   "source": [
    "# 집합 자료형 초기화 방법 1\n",
    "data=set([1,1,3,4,4,5])\n",
    "print(data)\n",
    "\n",
    "# 집합 자료형 초기화 방법 2\n",
    "data={1,1,2,3,4,4,5}\n",
    "print(data)"
   ]
  },
  {
   "cell_type": "code",
   "execution_count": 14,
   "metadata": {},
   "outputs": [
    {
     "name": "stdout",
     "output_type": "stream",
     "text": [
      "{1, 2, 3, 4, 5, 6, 7}\n",
      "{3, 4, 5}\n",
      "{1, 2}\n"
     ]
    }
   ],
   "source": [
    "# 집합 자료형의 연산\n",
    "\n",
    "a=set([1,2,3,4,5])\n",
    "b=set([3,4,5,6,7])\n",
    "\n",
    "print(a | b) #합집합\n",
    "print(a & b) #교집합\n",
    "print(a - b) #차집합"
   ]
  },
  {
   "cell_type": "code",
   "execution_count": 18,
   "metadata": {},
   "outputs": [
    {
     "name": "stdout",
     "output_type": "stream",
     "text": [
      "{1, 2, 3}\n",
      "{1, 2, 3, 4}\n",
      "{1, 2, 3, 4, 5, 6}\n",
      "{1, 2, 4, 5, 6}\n"
     ]
    }
   ],
   "source": [
    "# 집합 자료형 관련 함수\n",
    "data = set([1,2,3])\n",
    "print(data)\n",
    "\n",
    "# 새로운 원소 추가\n",
    "data.add(4)\n",
    "print(data)\n",
    "\n",
    "#새로운 원소 여러 개 추가\n",
    "data.update([5,6])\n",
    "print(data)\n",
    "\n",
    "#특정한 값을 갖는 원소 삭제\n",
    "data.remove(3)\n",
    "print(data)"
   ]
  },
  {
   "cell_type": "markdown",
   "metadata": {},
   "source": [
    "### 2. 조건문\n",
    "프로그램 작성 시에 조건문을 통해 프로그램의 흐름을 제어\\\n",
    "조건에 따라서 프로그램의 로직을 설정할 수 있다."
   ]
  },
  {
   "cell_type": "code",
   "execution_count": 15,
   "metadata": {},
   "outputs": [
    {
     "name": "stdout",
     "output_type": "stream",
     "text": [
      "15\n"
     ]
    }
   ],
   "source": [
    "x = 15\n",
    "if x>=10:\n",
    "    print(x)\n",
    "    \n",
    "# 파이썬에서 조건문 작성 시에는 if ~ elif ~ else 문을 이용한다. 그 형태는 아래와 같다.\n",
    "# 조건문 사용 시에는 elif 혹은 else 부분은 경우에 따라 사용하지 않아도 된다.\n",
    "# if 조건문 1:\n",
    "#     조건문 1이 True일때 실행되는 코드\n",
    "# elif 조건문 2:\n",
    "#     조건문 1에 해당하지 않고, 조건문 2가 True일때 실행되는 코드\n",
    "# else:\n",
    "#     위의 모든 조건문이 모두 True 값이 아닐 때 실행되는 코드"
   ]
  },
  {
   "cell_type": "code",
   "execution_count": 19,
   "metadata": {},
   "outputs": [
    {
     "name": "stdout",
     "output_type": "stream",
     "text": [
      "학점: B\n"
     ]
    }
   ],
   "source": [
    "score=85\n",
    "\n",
    "if score >=90:\n",
    "    print(\"학점: A\")\n",
    "elif score >=80:\n",
    "    print(\"학점: B\")\n",
    "elif score>=70:\n",
    "    print(\"학점: C\")\n",
    "else:\n",
    "    print(\"학점: F\")"
   ]
  },
  {
   "cell_type": "code",
   "execution_count": 20,
   "metadata": {},
   "outputs": [
    {
     "name": "stdout",
     "output_type": "stream",
     "text": [
      "성적이 70점 이상입니다.\n",
      "프로그램을 종료합니다.\n"
     ]
    }
   ],
   "source": [
    "score =85\n",
    "\n",
    "if score >=70:\n",
    "    print('성적이 70점 이상입니다.')\n",
    "    if score >=90:\n",
    "        print('우수한 성적입니다.')\n",
    "else:\n",
    "    print('성적이 70점 미만입니다.')\n",
    "    print('조금 더 분발하세요')\n",
    "print('프로그램을 종료합니다.')"
   ]
  },
  {
   "cell_type": "markdown",
   "metadata": {},
   "source": [
    "##### 비교 연산자\n",
    "x == y : x와 y가 서로 같은 때 true이다\\\n",
    "x != y : x와 y가 서로 다를 때 true이다\\\n",
    "x > y : x가 y보다 클 때 true이다\\\n",
    "x < y : x가 y보다 작을때 true이다"
   ]
  },
  {
   "cell_type": "markdown",
   "metadata": {},
   "source": [
    "##### 논리 연산자\n",
    "\n",
    "x and y : x와 y가 모두 true일때 true 이다\\\n",
    "x or y : x와 y중에 하나만 true여도 true이다\\\n",
    "not x : x가 false일때 true이다"
   ]
  },
  {
   "cell_type": "markdown",
   "metadata": {},
   "source": [
    "##### 파이썬의 기타 연산자\n",
    "x in 리스트 : 리스트 안에 x가 들어가 있을 때 true이다\\\n",
    "x not in 문자열: 문자열 안에 x가 들어가 있지 않을 때 true이다"
   ]
  },
  {
   "cell_type": "markdown",
   "metadata": {},
   "source": [
    "또한 파이썬에서는 조건문의 값이 참이라고 해도 아무것도 처리하고 싶지 않을 때 pass를 사용."
   ]
  },
  {
   "cell_type": "code",
   "execution_count": 22,
   "metadata": {},
   "outputs": [
    {
     "name": "stdout",
     "output_type": "stream",
     "text": [
      "프로그램을 종료합니다\n"
     ]
    }
   ],
   "source": [
    "score = 85\n",
    "if score>=80:\n",
    "    pass # 나중에 작성할 소스코드\n",
    "else:\n",
    "    print(\"성적이 80점 미만입니다.\")\n",
    "print(\"프로그램을 종료합니다\")"
   ]
  },
  {
   "cell_type": "code",
   "execution_count": 24,
   "metadata": {},
   "outputs": [
    {
     "name": "stdout",
     "output_type": "stream",
     "text": [
      "Success\n"
     ]
    }
   ],
   "source": [
    "# 조건문에서 실행될 소스코드가 한 줄인 경우, 줄바꿈 없이도 표현 가능하다\n",
    "score = 85\n",
    "if score >= 80: result = \"Success\"\n",
    "else: result = \"Fail\"\n",
    "print(result)"
   ]
  },
  {
   "cell_type": "code",
   "execution_count": 25,
   "metadata": {},
   "outputs": [
    {
     "name": "stdout",
     "output_type": "stream",
     "text": [
      "Success\n"
     ]
    }
   ],
   "source": [
    "# 나아가 조건부 표현식을 이용하면 if~else 문을 한 줄에 작성해 사용할 수 있다.\n",
    "score=85\n",
    "result=\"Success\" if score >= 80 else \"Fail\"\n",
    "print(result)"
   ]
  },
  {
   "cell_type": "code",
   "execution_count": 26,
   "metadata": {},
   "outputs": [
    {
     "name": "stdout",
     "output_type": "stream",
     "text": [
      "[1, 2, 4]\n"
     ]
    }
   ],
   "source": [
    "# 일반적인 형태의 조건문을 이용한 예시\n",
    "a = [1,2,3,4,5,5,5]\n",
    "remove_set={3,5}\n",
    "result=[]\n",
    "for i in a:\n",
    "    if i not in remove_set:\n",
    "        result.append(i)\n",
    "print(result)"
   ]
  },
  {
   "cell_type": "code",
   "execution_count": 27,
   "metadata": {},
   "outputs": [
    {
     "name": "stdout",
     "output_type": "stream",
     "text": [
      "[1, 2, 4]\n"
     ]
    }
   ],
   "source": [
    "# 위의 코드를 조건부 표현식을 사용해서 간략하게 작성해보자.\n",
    "# 조건부 표현식은 리스트에 있는 원소 값을 변경하여 또 다른 리스트 만들고자 할 때 매우 간결하게 사용 가능하다\n",
    "a=[1,2,3,4,5,5,5]\n",
    "remove_set={3,5}\n",
    "\n",
    "result = [i for i in a if i not in remove_set]\n",
    "print(result)"
   ]
  },
  {
   "cell_type": "markdown",
   "metadata": {},
   "source": [
    "### 3. 반복문\n",
    "\n",
    "반복문은 특정한 소스코드를 반복적으로 실행하고자 할 때 사용할 수 있다.\\\n",
    "파이썬에서는 while 문과 for문이 있는데 어떤 것을 사용해도 상관없다.\\\n",
    "하지만 대부분의 경우에서 for문이 더 소스코드가 짧은 경우가 많다."
   ]
  },
  {
   "cell_type": "markdown",
   "metadata": {},
   "source": [
    "##### while 반복문\n",
    "조건문이 참일 때에 한해서 반복적으로 코드가 수행된다.\\\n",
    "조건문 설정에 따라 해당 블록을 영원히 반복할 수도 있는데, 이를 무한루프 라고 한다."
   ]
  },
  {
   "cell_type": "code",
   "execution_count": 29,
   "metadata": {},
   "outputs": [
    {
     "name": "stdout",
     "output_type": "stream",
     "text": [
      "45\n"
     ]
    }
   ],
   "source": [
    "# 1부터 9까지 각 정수의 합을 계산하기\n",
    "i=1\n",
    "result=0\n",
    "\n",
    "#i 가 9보다 작거나 같을 때 아래 코드를 반복적으로 실행\n",
    "while i <=9:\n",
    "    result += i\n",
    "    i+=1\n",
    "print(result)"
   ]
  },
  {
   "cell_type": "code",
   "execution_count": 30,
   "metadata": {},
   "outputs": [
    {
     "name": "stdout",
     "output_type": "stream",
     "text": [
      "25\n"
     ]
    }
   ],
   "source": [
    "#1부터 9까지의 수 중에서 홀수만 더하고자 한다.\n",
    "i=1\n",
    "result=0\n",
    "\n",
    "#i가 9보다 작거나 같을 때 아래 코드를 반복적으로 실행\n",
    "while i<=9:\n",
    "    if i % 2 == 1:\n",
    "        result += i\n",
    "    i +=1\n",
    "print(result)"
   ]
  },
  {
   "cell_type": "markdown",
   "metadata": {},
   "source": [
    "##### for 반복문\n",
    "리스트를 사용하는 대표적인 for문의 구조는 다음과 같다.\\\n",
    "in 뒤에 오는 데이터에 포함되어 있는 모든 원소를 첫 번째 인덱스부터 차례대로 하나씩 방문한다\\\n",
    "in 뒤에 오는 데이터로는 리스트, 튜플, 문자열 등이 사용될 수 있다.\\\n",
    "\n",
    "for 변수 in 리스트:\\\n",
    "    실행할 소스코드"
   ]
  },
  {
   "cell_type": "code",
   "execution_count": 31,
   "metadata": {},
   "outputs": [
    {
     "name": "stdout",
     "output_type": "stream",
     "text": [
      "45\n"
     ]
    }
   ],
   "source": [
    "# 1부터 9까지의 정수의 합을 계산하기\n",
    "result=0\n",
    "\n",
    "#i는 1부터 9까지의 모든 값을 순회\n",
    "for i in range(1,10):\n",
    "    result += i\n",
    "print(result)"
   ]
  },
  {
   "cell_type": "markdown",
   "metadata": {},
   "source": [
    "range()의 값으로 하나의 값만을 넣으면, 자동으로 시작 값은 0이 된다.\\\n",
    "주로 리스트나 튜플 데이터의 모든 원소를 첫 번째 인덱스부터 방문해야할 때 이 방법을 사용.\\"
   ]
  },
  {
   "cell_type": "code",
   "execution_count": 32,
   "metadata": {},
   "outputs": [
    {
     "name": "stdout",
     "output_type": "stream",
     "text": [
      "1 번 학생은 합격입니다.\n",
      "2 번 학생은 합격입니다.\n",
      "5 번 학생은 합격입니다.\n"
     ]
    }
   ],
   "source": [
    "scores=[90, 85, 77, 65, 97]\n",
    "\n",
    "for i in range(5):\n",
    "    if scores[i] >=80:\n",
    "        print(i+1, \"번 학생은 합격입니다.\")"
   ]
  },
  {
   "cell_type": "code",
   "execution_count": 33,
   "metadata": {},
   "outputs": [
    {
     "name": "stdout",
     "output_type": "stream",
     "text": [
      "1 번 학생은 합격입니다\n",
      "5 번 학생은 합격입니다\n"
     ]
    }
   ],
   "source": [
    "# 반복문 안에서 continue를 만나면 프로그램의 흐름은 반복문의 처음으로 돌아간다. \n",
    "scores=[90, 85, 77, 65, 97]\n",
    "black_list=[2,4]\n",
    "\n",
    "for i in range(5):\n",
    "    if i + 1  in black_list:\n",
    "        continue #즉 블랙리스트에 있으면 점수가 높아도 합격하지 못한다\n",
    "    if scores[i] >=80:\n",
    "        print(i+1, \"번 학생은 합격입니다\")"
   ]
  },
  {
   "cell_type": "code",
   "execution_count": 34,
   "metadata": {},
   "outputs": [
    {
     "name": "stdout",
     "output_type": "stream",
     "text": [
      "2 X 1 = 2\n",
      "2 X 2 = 4\n",
      "2 X 3 = 6\n",
      "2 X 4 = 8\n",
      "2 X 5 = 10\n",
      "2 X 6 = 12\n",
      "2 X 7 = 14\n",
      "2 X 8 = 16\n",
      "2 X 9 = 18\n",
      "\n",
      "3 X 1 = 3\n",
      "3 X 2 = 6\n",
      "3 X 3 = 9\n",
      "3 X 4 = 12\n",
      "3 X 5 = 15\n",
      "3 X 6 = 18\n",
      "3 X 7 = 21\n",
      "3 X 8 = 24\n",
      "3 X 9 = 27\n",
      "\n",
      "4 X 1 = 4\n",
      "4 X 2 = 8\n",
      "4 X 3 = 12\n",
      "4 X 4 = 16\n",
      "4 X 5 = 20\n",
      "4 X 6 = 24\n",
      "4 X 7 = 28\n",
      "4 X 8 = 32\n",
      "4 X 9 = 36\n",
      "\n",
      "5 X 1 = 5\n",
      "5 X 2 = 10\n",
      "5 X 3 = 15\n",
      "5 X 4 = 20\n",
      "5 X 5 = 25\n",
      "5 X 6 = 30\n",
      "5 X 7 = 35\n",
      "5 X 8 = 40\n",
      "5 X 9 = 45\n",
      "\n",
      "6 X 1 = 6\n",
      "6 X 2 = 12\n",
      "6 X 3 = 18\n",
      "6 X 4 = 24\n",
      "6 X 5 = 30\n",
      "6 X 6 = 36\n",
      "6 X 7 = 42\n",
      "6 X 8 = 48\n",
      "6 X 9 = 54\n",
      "\n",
      "7 X 1 = 7\n",
      "7 X 2 = 14\n",
      "7 X 3 = 21\n",
      "7 X 4 = 28\n",
      "7 X 5 = 35\n",
      "7 X 6 = 42\n",
      "7 X 7 = 49\n",
      "7 X 8 = 56\n",
      "7 X 9 = 63\n",
      "\n",
      "8 X 1 = 8\n",
      "8 X 2 = 16\n",
      "8 X 3 = 24\n",
      "8 X 4 = 32\n",
      "8 X 5 = 40\n",
      "8 X 6 = 48\n",
      "8 X 7 = 56\n",
      "8 X 8 = 64\n",
      "8 X 9 = 72\n",
      "\n",
      "9 X 1 = 9\n",
      "9 X 2 = 18\n",
      "9 X 3 = 27\n",
      "9 X 4 = 36\n",
      "9 X 5 = 45\n",
      "9 X 6 = 54\n",
      "9 X 7 = 63\n",
      "9 X 8 = 72\n",
      "9 X 9 = 81\n",
      "\n"
     ]
    }
   ],
   "source": [
    "# 반복문은 얼마든지 중첩해서 사용이 가능하다. 예를 들어 2중 반복문이 사용되어야 하는 대표적 예시는 구구단이다.\n",
    "# 실제로 '플로이드 워셜 알고리즘', '다이나믹 프로그래밍' 등의 문제에서 많이 사용된다.\n",
    "\n",
    "for i in range(2,10):\n",
    "    for j in range(1,10):\n",
    "        print(i, \"X\", j, \"=\", i*j)\n",
    "    print()"
   ]
  },
  {
   "cell_type": "markdown",
   "metadata": {},
   "source": [
    "### 4. 함수\n",
    "코딩 테스트에서 테스트 케이스만큼 특정한 알고리즘을 수행한 결과를 반복적으로 출력하도록 요구하는 경우가 많다.\\\n",
    "문제를 푸는 코드를 \"함수화\"하자.\\\n",
    "함수 내부에서 사용되는 변수의 값을 전달받기 위해 매개변수를 정의한다.\\\n",
    "이후 함수에서 어떤 값을 반환하고자 할 때 return을 이용한다."
   ]
  },
  {
   "cell_type": "code",
   "execution_count": 35,
   "metadata": {},
   "outputs": [],
   "source": [
    "# def 함수명(매개변수):\n",
    "#     실행할 소스코드\n",
    "#     return 반환 값"
   ]
  },
  {
   "cell_type": "code",
   "execution_count": 37,
   "metadata": {},
   "outputs": [
    {
     "name": "stdout",
     "output_type": "stream",
     "text": [
      "10\n",
      "함수의 결과: 10\n"
     ]
    }
   ],
   "source": [
    "# 더하기 기능을 제공하는 함수를 출력\n",
    "def add(a,b):\n",
    "    return a+b\n",
    "print(add(3,7))\n",
    "\n",
    "def add(a,b):\n",
    "    print(\"함수의 결과:\", a + b) #return문 없이 작성\n",
    "add(3,7)"
   ]
  },
  {
   "cell_type": "markdown",
   "metadata": {},
   "source": [
    "또한 함수를 호출하는 과정에서 인자(argument)를 넘겨줄 때, 변수를 직접 지정해서 넣을 수 있다.\\\n",
    "이 경우 매개변수의 순서가 달라도 상관없다는 점이 특징이다"
   ]
  },
  {
   "cell_type": "code",
   "execution_count": 38,
   "metadata": {},
   "outputs": [
    {
     "name": "stdout",
     "output_type": "stream",
     "text": [
      "함수의 결과: 10\n"
     ]
    }
   ],
   "source": [
    "def add(a,b):\n",
    "    print('함수의 결과:', a+b)\n",
    "add(b=3, a=7)"
   ]
  },
  {
   "cell_type": "markdown",
   "metadata": {},
   "source": [
    "함수 안에서 함수 밖의 변수 데이터를 변경해야 하는 경우가 있다.\\\n",
    "이때는 함수에서 global 키워드를 사용해주자.\\\n",
    "global 키워드로 변수를 지정하면, 해당 함수에서는 지역 변수를 만들지 않고, 밖에 선언된 변수를 바로 참조한다.\\\n",
    "아래 예시에서는 a라는 변수를 함수 안에서도 동일하게 접근하여 값을 변경한다."
   ]
  },
  {
   "cell_type": "code",
   "execution_count": 39,
   "metadata": {},
   "outputs": [
    {
     "name": "stdout",
     "output_type": "stream",
     "text": [
      "10\n"
     ]
    }
   ],
   "source": [
    "a=0\n",
    "\n",
    "def func():\n",
    "    global a\n",
    "    a+=1\n",
    "for i in range(10):\n",
    "    func()\n",
    "print(a)"
   ]
  },
  {
   "cell_type": "code",
   "execution_count": 41,
   "metadata": {},
   "outputs": [
    {
     "name": "stdout",
     "output_type": "stream",
     "text": [
      "10\n",
      "10\n"
     ]
    }
   ],
   "source": [
    "# 람다 표현식(lambda express)을 사용하여 함수를 간단히 작성\n",
    "# 이는 특정 기능을 수행하는 함수를 한 줄에 작성할 수 있다는 특징을 가짐\n",
    "def add(a,b):\n",
    "    return a+b\n",
    "#일반적인 add() 메서드 사용\n",
    "print(add(3,7))\n",
    "\n",
    "#람다 표현식으로 구현한 add() 메서드\n",
    "print((lambda a, b: a+b)(3,7))\n",
    "# 이러한 람다 표현식은 정렬 라이브러리를 사용할 때, 정렬 기준(key)을 설정할 때에도 자주 사용된다."
   ]
  },
  {
   "cell_type": "markdown",
   "metadata": {},
   "source": [
    "### 5. 입출력\n",
    "알고리즘 문제 풀이의 첫 단계는 데이터를 입력받는 것.\\\n",
    "적절한 입력이 주어졌을 때, 그 입력을 받아서 적절한 알고리즘을 수행한 뒤의 결과를 출력하는 것을 요구하기 때문.\\\n",
    "파이썬에서 데이터 입력받을 시에는 input()을 이용.이는 한 줄의 문자열을 입력받도록 해줌.\\"
   ]
  },
  {
   "cell_type": "markdown",
   "metadata": {},
   "source": [
    "list(map(int, input().split())) 을 꼭 기억하자!!\\\n",
    "-먼저 input()으로 입력받은 문자열을 split()을 이용해 공백으로 나눈 리스트로 바꾼다.\\\n",
    "-그 다음 map을 이용하여 해당 리스트의 모든 원소에 int()함수를 적용한다.\\\n",
    "-최종적으로 그 결과를 list()로 다시 바꿈으로써 입력받은 문자열을 띄어쓰기로 구분하여 각각 숫자 자료형으로 저장하게 된다."
   ]
  },
  {
   "cell_type": "code",
   "execution_count": 42,
   "metadata": {},
   "outputs": [
    {
     "name": "stdout",
     "output_type": "stream",
     "text": [
      "5\n",
      "65 90 75 34 99\n",
      "[99, 90, 75, 65, 34]\n"
     ]
    }
   ],
   "source": [
    "#입력을 위한 전형적인 소스코드\n",
    "\n",
    "#데이터의 개수 입력\n",
    "n=int(input())\n",
    "# 각 데이터를 공백으로 구분하여 입력\n",
    "data=list(map(int, input().split()))\n",
    "\n",
    "data.sort(reverse =True)\n",
    "print(data)"
   ]
  },
  {
   "cell_type": "code",
   "execution_count": 43,
   "metadata": {},
   "outputs": [
    {
     "name": "stdout",
     "output_type": "stream",
     "text": [
      "3 5 7\n",
      "3 5 7\n"
     ]
    }
   ],
   "source": [
    "#공백을 기준으로 구분하여 적은 수의 데이터 입력\n",
    "\n",
    "#n, m, k를 공백으로 구분하여 입력\n",
    "n,m,k = map(int, input().split())\n",
    "print(n,m,k)"
   ]
  },
  {
   "cell_type": "markdown",
   "metadata": {},
   "source": [
    "input()함수는 동작 속도가 느려서 시간 초과로 오답 판정을 받을 수 있다.\\\n",
    "이러한 경우 파이썬의 sys 라이브러리에 정의되어 있는 sys.stdin.readline().rstrip() 함수를 이용.\\\n",
    "sys 라이브러리는 아래와 같이 사용하며 input()함수와 같이 한 줄씩 입력받기 위해 사용한다."
   ]
  },
  {
   "cell_type": "code",
   "execution_count": 44,
   "metadata": {},
   "outputs": [
    {
     "data": {
      "text/plain": [
       "''"
      ]
     },
     "execution_count": 44,
     "metadata": {},
     "output_type": "execute_result"
    }
   ],
   "source": [
    "import sys\n",
    "sys.stdin.readline().rstrip()"
   ]
  },
  {
   "cell_type": "markdown",
   "metadata": {},
   "source": [
    "sys 라이브러리 사용 시에는 한 줄 입력받고 나서 rstrip()함수를 꼭 호출해야 한다.\\\n",
    "readline()으로 입력하면 입력 후 엔터가 줄 바꿈 기호로 입력되는데,\\\n",
    "이 공백 문자를 제거하려면 rstrip()함수를 사용해야 한다."
   ]
  },
  {
   "cell_type": "code",
   "execution_count": 46,
   "metadata": {},
   "outputs": [
    {
     "name": "stdout",
     "output_type": "stream",
     "text": [
      "\n"
     ]
    }
   ],
   "source": [
    "#readline() 사용 소스코드 예시\n",
    "import sys\n",
    "\n",
    "#문자열 입력받기\n",
    "data=sys.stdin.readline().rstrip()\n",
    "print(data)"
   ]
  },
  {
   "cell_type": "code",
   "execution_count": 48,
   "metadata": {},
   "outputs": [
    {
     "name": "stdout",
     "output_type": "stream",
     "text": [
      "1 2\n"
     ]
    }
   ],
   "source": [
    "#변수 출력 예시\n",
    "a=1\n",
    "b=2\n",
    "print(a,b) #파이썬의 print()는 기본적으로 출력 이후에 줄 바꿈을 수행한다."
   ]
  },
  {
   "cell_type": "code",
   "execution_count": 49,
   "metadata": {},
   "outputs": [
    {
     "name": "stdout",
     "output_type": "stream",
     "text": [
      "1\n",
      "2\n"
     ]
    }
   ],
   "source": [
    "#출력 줄 바꿈 예시\n",
    "a=1\n",
    "b=2\n",
    "print(a)\n",
    "print(b)"
   ]
  },
  {
   "cell_type": "code",
   "execution_count": 50,
   "metadata": {},
   "outputs": [
    {
     "ename": "TypeError",
     "evalue": "can only concatenate str (not \"int\") to str",
     "output_type": "error",
     "traceback": [
      "\u001b[0;31m---------------------------------------------------------------------------\u001b[0m",
      "\u001b[0;31mTypeError\u001b[0m                                 Traceback (most recent call last)",
      "\u001b[0;32m<ipython-input-50-f52557eaa957>\u001b[0m in \u001b[0;36m<module>\u001b[0;34m\u001b[0m\n\u001b[1;32m      1\u001b[0m \u001b[0;31m#출력 시 오류가 발생하는 소스코드 예시\u001b[0m\u001b[0;34m\u001b[0m\u001b[0;34m\u001b[0m\u001b[0;34m\u001b[0m\u001b[0m\n\u001b[1;32m      2\u001b[0m \u001b[0manswer\u001b[0m\u001b[0;34m=\u001b[0m\u001b[0;36m7\u001b[0m\u001b[0;34m\u001b[0m\u001b[0;34m\u001b[0m\u001b[0m\n\u001b[0;32m----> 3\u001b[0;31m \u001b[0mprint\u001b[0m\u001b[0;34m(\u001b[0m\u001b[0;34m\"정답은\"\u001b[0m \u001b[0;34m+\u001b[0m \u001b[0manswer\u001b[0m \u001b[0;34m+\u001b[0m\u001b[0;34m\"입니다.\"\u001b[0m\u001b[0;34m)\u001b[0m\u001b[0;34m\u001b[0m\u001b[0;34m\u001b[0m\u001b[0m\n\u001b[0m",
      "\u001b[0;31mTypeError\u001b[0m: can only concatenate str (not \"int\") to str"
     ]
    }
   ],
   "source": [
    "#출력 시 오류가 발생하는 소스코드 예시\n",
    "answer=7\n",
    "print(\"정답은\" + answer +\"입니다.\")"
   ]
  },
  {
   "cell_type": "markdown",
   "metadata": {},
   "source": [
    "위에서 오류가 나는 이유는 문자열 자료형끼리만 더하기 연산이 가능하다고 하기 때문이다.\\\n",
    "두 가지 방법으로 해결이 가능하다.\n",
    "1. str()함수를 이용하여 출력하고자 하는 변수 데이터를 문자열로 바꿔주기.\n",
    "2. 각 자료형을 콤마(,)기준으로 구분하여 출력"
   ]
  },
  {
   "cell_type": "code",
   "execution_count": 51,
   "metadata": {},
   "outputs": [
    {
     "name": "stdout",
     "output_type": "stream",
     "text": [
      "정답은7입니다!!\n"
     ]
    }
   ],
   "source": [
    "# 변수를 문자열로 바꾸어 출력하는 소스코드 예시\n",
    "answer = 7\n",
    "print(\"정답은\" + str(answer) + \"입니다!!\")"
   ]
  },
  {
   "cell_type": "code",
   "execution_count": 52,
   "metadata": {},
   "outputs": [
    {
     "name": "stdout",
     "output_type": "stream",
     "text": [
      "정답은 7 입니다!!\n"
     ]
    }
   ],
   "source": [
    "#각 변수를 콤마로 구분하여 출력하는 소스코드 예시\n",
    "answer = 7\n",
    "print(\"정답은\", str(answer), \"입니다!!\")\n",
    "#변수 사이에 의도치 않은 공백이 삽입될 수 있다. "
   ]
  },
  {
   "cell_type": "markdown",
   "metadata": {},
   "source": [
    "### 6. 주요 라이브러리의 문법과 유의점"
   ]
  },
  {
   "cell_type": "markdown",
   "metadata": {},
   "source": [
    "표준라이브러리: 특정 프로그래밍 언어에서 자주 사용되는 표준 소스코드를 미리 구현해 놓은 라이브러리\\\n",
    "파이썬에서 지원하는 표준 라이브러리 중 중요한 6가지:\n",
    "1. 내장함수: print(), input()과 같은 기본 입출력 기능부터 sorted()와 같은 정렬 기능을 포함하고 있는 기본 내장 라이브러리.\n",
    "2. itertools: 파이썬에서 반복되는 형태의 데이터를 처리하는 기능을 제공하는 라이브러리이다. 순열과 조합 라이브러리를 제공.\n",
    "3. heapq: 힙(Heap) 기능을 제공하는 라이브러리. 우선순위 큐 기능을 구현하기 위해 사용.\n",
    "4. bisect: 이진탐색(Binary Search) 기능을 제공하는 라이브러리.\n",
    "5. collections: 덱(deque), 카운터(Counter) 등의 유용한 자료구조를 포함하고 있는 라이브러리.\n",
    "6. math: 필수적인 수학적 기능을 제공하는 라이브러리. 팩토리얼, 제곱근, 최대공약수, 삼각함수 관련 함수부터 파이와 같은 상수를 포함."
   ]
  },
  {
   "cell_type": "markdown",
   "metadata": {},
   "source": [
    "##### 내장함수\n",
    "별도의 import 명령어 없이 바로 사용할 수 있는 내장함수들이 존재.\\\n",
    "가장 기본적이면서 필수적인 기능을 포함하고 있다. 대표적으로 input(), print()\\\n",
    "다른 중요한 파이썬 내장함수들을 알아보자"
   ]
  },
  {
   "cell_type": "code",
   "execution_count": 53,
   "metadata": {},
   "outputs": [
    {
     "name": "stdout",
     "output_type": "stream",
     "text": [
      "15\n"
     ]
    }
   ],
   "source": [
    "# sum() : list와 같은 iterable 객체가 입력으로 주어졌을 때, 모든 원소의 합을 반환\n",
    "result = sum([1,2,3,4,5])\n",
    "print(result)"
   ]
  },
  {
   "cell_type": "code",
   "execution_count": 54,
   "metadata": {},
   "outputs": [
    {
     "name": "stdout",
     "output_type": "stream",
     "text": [
      "2\n"
     ]
    }
   ],
   "source": [
    "# min() : parameter가 2개 이상 들어왔을 때 가장 작은 값을 반환한다.\n",
    "result = min(7,3,5,2)\n",
    "print(result)"
   ]
  },
  {
   "cell_type": "code",
   "execution_count": 55,
   "metadata": {},
   "outputs": [
    {
     "name": "stdout",
     "output_type": "stream",
     "text": [
      "7\n"
     ]
    }
   ],
   "source": [
    "# max() : parameter가 2개 이상 들어왔을 때 가장 큰 값을 반환한다.\n",
    "result = max(7,3,5,2)\n",
    "print(result)"
   ]
  },
  {
   "cell_type": "code",
   "execution_count": 56,
   "metadata": {},
   "outputs": [
    {
     "name": "stdout",
     "output_type": "stream",
     "text": [
      "56\n"
     ]
    }
   ],
   "source": [
    "#eval() : 수학 수식이 문자열 형식으로 들어오면 해당 수식을 계산한 결과를 반환한다.\n",
    "result = eval(\"(3+5) * 7\")\n",
    "print(result)"
   ]
  },
  {
   "cell_type": "code",
   "execution_count": 57,
   "metadata": {},
   "outputs": [
    {
     "name": "stdout",
     "output_type": "stream",
     "text": [
      "[1, 4, 5, 8, 9]\n",
      "[9, 8, 5, 4, 1]\n"
     ]
    }
   ],
   "source": [
    "# sorted() : iterable 객체가 들어왔을 때, 정렬된 결과를 반환한다.\n",
    "# key속성으로 정렬 기준을 명시할 수 있으며, reverse속성으로 정렬된 결과 리스트를 뒤집을지의 여부를 설정할 수 있다.\n",
    "result = sorted([9,1,8,5,4])\n",
    "print(result)\n",
    "result = sorted([9,1,8,5,4], reverse=True)\n",
    "print(result)"
   ]
  },
  {
   "cell_type": "code",
   "execution_count": 58,
   "metadata": {},
   "outputs": [
    {
     "name": "stdout",
     "output_type": "stream",
     "text": [
      "[('이순신', 75), ('아무개', 50), ('홍길동', 35)]\n"
     ]
    }
   ],
   "source": [
    "# 리스트의 원소로 리스트나 튜플이 존재할 때 특정 기준에 따라서 정렬을 수행할 수 있음.\n",
    "# 정렬 기준은 key속성을 이용해 명시할 수 있다. \n",
    "\n",
    "result = sorted([('홍길동',35), ('이순신',75), ('아무개',50)], key=lambda x: x[1], reverse=True)\n",
    "print(result)"
   ]
  },
  {
   "cell_type": "code",
   "execution_count": 60,
   "metadata": {},
   "outputs": [
    {
     "name": "stdout",
     "output_type": "stream",
     "text": [
      "[9, 1, 8, 5, 4]\n",
      "[1, 4, 5, 8, 9]\n"
     ]
    }
   ],
   "source": [
    "# 리스트와 같은 iterable 객체는 기본으로 sort()함수를 내장하고 있어서 굳이 sorted()함수를 사용하지 않고도 sort()함수 사용 가능.\n",
    "data = [9,1,8,5,4]\n",
    "print(data)\n",
    "data.sort()\n",
    "print(data)"
   ]
  },
  {
   "cell_type": "markdown",
   "metadata": {},
   "source": [
    "##### itertools\n",
    "파이썬에서 반복되는 데이터를 처리하는 기능을 포함하고 있는 라이브러리.\\\n",
    "제공하는 클래스는 매우 다양하지만, 코딩 테스트에서 가장 유용하게 사용할 수 있는 클래스는 permutations, combinations이다."
   ]
  },
  {
   "cell_type": "code",
   "execution_count": 61,
   "metadata": {},
   "outputs": [
    {
     "name": "stdout",
     "output_type": "stream",
     "text": [
      "[('A', 'B', 'C'), ('A', 'C', 'B'), ('B', 'A', 'C'), ('B', 'C', 'A'), ('C', 'A', 'B'), ('C', 'B', 'A')]\n"
     ]
    }
   ],
   "source": [
    "# permutations 는 리스트와 같은 iterable 객체에서 r개의 데이터를 뽑아 일렬로 나열하는 모든 경우(순열)을 계산\n",
    "from itertools import permutations\n",
    "\n",
    "data=['A','B','C'] #데이터 준비\n",
    "result = list(permutations(data,3)) #모든 순열 구하기\n",
    "print(result)"
   ]
  },
  {
   "cell_type": "code",
   "execution_count": 62,
   "metadata": {},
   "outputs": [
    {
     "name": "stdout",
     "output_type": "stream",
     "text": [
      "[('A', 'B'), ('A', 'C'), ('B', 'C')]\n"
     ]
    }
   ],
   "source": [
    "# combinations는 리스트와 같은 iterable 객체에서 r개의 데이터를 뽑아 순서를 고려하지 않고 나열하는 모든 경우(조합)을 계산한다.\n",
    "from itertools import combinations\n",
    "\n",
    "data = ['A','B','C'] #데이터 준비\n",
    "result = list(combinations(data,2)) #2개를 뽑는 모든 조합 구하기\n",
    "print(result)"
   ]
  },
  {
   "cell_type": "code",
   "execution_count": 63,
   "metadata": {},
   "outputs": [
    {
     "name": "stdout",
     "output_type": "stream",
     "text": [
      "[('A', 'A'), ('A', 'B'), ('A', 'C'), ('B', 'A'), ('B', 'B'), ('B', 'C'), ('C', 'A'), ('C', 'B'), ('C', 'C')]\n"
     ]
    }
   ],
   "source": [
    "# product는 permutation과 같이 리스트와 같은 iterable 객체에서 r개의 데이터를 뽑아 일렬로 나열하는 모든 경우를 계산\n",
    "# 다만 원소를 \"중복\"하여 뽑는다.\n",
    "from itertools import product\n",
    "data = ['A','B','C'] #데이터 준비\n",
    "result=list(product(data,repeat=2)) #2개를 뽑는 모든 순열 구하기(중복허용)\n",
    "print(result)"
   ]
  },
  {
   "cell_type": "code",
   "execution_count": 64,
   "metadata": {},
   "outputs": [
    {
     "name": "stdout",
     "output_type": "stream",
     "text": [
      "[('A', 'A'), ('A', 'B'), ('A', 'C'), ('B', 'B'), ('B', 'C'), ('C', 'C')]\n"
     ]
    }
   ],
   "source": [
    "# combinations_with_replacement\n",
    "from itertools import combinations_with_replacement\n",
    "data=['A','B','C'] #데이터 준비\n",
    "result=list(combinations_with_replacement(data,2)) #2개를 뽑는 모든 조합 구하기 (중복허용)\n",
    "print(result)"
   ]
  },
  {
   "cell_type": "markdown",
   "metadata": {},
   "source": [
    "##### heapq\n",
    "힙 기능을 위한 heapq라이브러리를 제공한다.\\\n",
    "다익스트라 최단경로 알고리즘을 포함해 다양한 알고리즘에서 우선순위 큐 기능을 구현하고자 할 때 사용.\\\n",
    "PriorityQueue도 있지만, heapq가 더 빠르게 동작하기에 코딩테스트에서 많이 사용된다.\\\n",
    "파이썬의 힙은 최소 힙으로 구성되어 있기에 단순히 원소를 힙에 전부 넣었다가 빼는 것만으로도 시간복잡도에 오름차순 정렬이 완료된다."
   ]
  },
  {
   "cell_type": "code",
   "execution_count": null,
   "metadata": {},
   "outputs": [],
   "source": [
    "import heapq\n",
    "def heapsort(iterable):\n",
    "    h=[]\n",
    "    result=[]\n",
    "    #모든 원소를 차례대로 힙에 삽입\n",
    "    for value in iterable:\n",
    "        heapq.heappush(h,value)\n",
    "    #힙에 삽입된 모든 원소를 차례대로 꺼내어 담기\n",
    "    for i in range(len(h)):\n",
    "        result.append(heapq.heappop(h))\n",
    "    return result\n",
    "\n",
    "result=heapsort([1,3,5,7,9,2,4,6,8,0])\n",
    "print(result)"
   ]
  },
  {
   "cell_type": "markdown",
   "metadata": {},
   "source": [
    "파이썬에서는 최대 힙을 제공하지 않는다.\\\n",
    "따라서 heapq라이브러리를 이용하여 최대 힙을 구현해야 할 때는 원소의 부호를 임시로 변경하는 방식을 사용.\\\n",
    "힙에 원소 삽입 전에 부호를 잠시 반대로 바꾸었다가,\\\n",
    "힙에서 원소를 꺼낸 뒤에 다시 원소의 부호를 바꾸면 된다.\\\n",
    "이러한 방식으로 최대 힙을 구현하여 내림차순 힙 정렬을 구현한 예시로 아래를 참고하자"
   ]
  },
  {
   "cell_type": "code",
   "execution_count": 66,
   "metadata": {},
   "outputs": [
    {
     "name": "stdout",
     "output_type": "stream",
     "text": [
      "[9, 8, 7, 6, 5, 4, 3, 2, 1, 0]\n"
     ]
    }
   ],
   "source": [
    "import heapq\n",
    "\n",
    "def heapsort(iterable):\n",
    "    h=[]\n",
    "    result=[]\n",
    "    #모든 원소를 차례대로 힙에 삽입\n",
    "    for value in iterable:\n",
    "        heapq.heappush(h, -value)\n",
    "    #힙에 삽입된 모든 원소를 차례대로 꺼내어 담기\n",
    "    for i in range(len(h)):\n",
    "        result.append(-heapq.heappop(h))\n",
    "    return result\n",
    "\n",
    "result=heapsort([1,3,5,7,9,2,4,6,8,0])\n",
    "print(result)"
   ]
  },
  {
   "cell_type": "markdown",
   "metadata": {},
   "source": [
    "##### bisect - 이진탐색을 쉽게 구현할 수 있는 라이브러리\n",
    "정리된 배열에서 특정한 원소를 찾아야 할 때 매우 효과적으로 사용됨.\\\n",
    "bisect 라이브러리에서 bisect_left()함수와 bisect_right()함수가 중요하게 사용됨.\\\n",
    "-bisect_left(a,x): 정렬된 순서를 유지하면서 리스트 a에 데이터 x를 삽입할 가장 왼쪽 인덱스를 찾는 메서드\\\n",
    "-bisect_right(a,x): 정렬된 순서를 유지하도록 리스트 a에 데이터 x를 삽입할 가장 오른쪽 인덱스를 찾는 메서드"
   ]
  },
  {
   "cell_type": "code",
   "execution_count": 67,
   "metadata": {},
   "outputs": [
    {
     "name": "stdout",
     "output_type": "stream",
     "text": [
      "2\n",
      "4\n"
     ]
    }
   ],
   "source": [
    "from bisect import bisect_left, bisect_right\n",
    "\n",
    "a=[1,2,4,4,8]\n",
    "x=4\n",
    "\n",
    "print(bisect_left(a,x))\n",
    "print(bisect_right(a,x))"
   ]
  },
  {
   "cell_type": "markdown",
   "metadata": {},
   "source": [
    "또한 bisect_left()함수와 bisect_right()함수는,\\\n",
    "'정렬된 리스트'에서 '값이 특정 범위에 속하는 원소의 개수'를 구하고자 할 때 효과적으로 사용될 수 있다."
   ]
  },
  {
   "cell_type": "code",
   "execution_count": 69,
   "metadata": {},
   "outputs": [
    {
     "name": "stdout",
     "output_type": "stream",
     "text": [
      "2\n",
      "6\n"
     ]
    }
   ],
   "source": [
    "# 정렬된 리스트에서 값이 [left_value, right_value]에 속하는 데이터의 개수를 반환한다. \n",
    "# 다시 말해 원소의 값을 x라고 할 때, left_value<=x<=right_value 인 우너소의 개수를 빠르게 계산가능하다\n",
    "\n",
    "from bisect import bisect_left, bisect_right\n",
    "\n",
    "# 값이 [left_value, right_value]인 데이터의 개수를 반환하는 함수\n",
    "def count_by_range(a, left_value, right_value):\n",
    "    right_index = bisect_right(a, right_value)\n",
    "    left_index = bisect_left(a, left_value)\n",
    "    return right_index-left_index\n",
    "\n",
    "#리스트 선언\n",
    "a=[1,2,3,3,3,3,4,4,8,9]\n",
    "\n",
    "#값이 4개인 데이터 개수 출력\n",
    "print((count_by_range(a, 4, 4)))\n",
    "\n",
    "#값이 [-1,3]범위에 있는 데이터 개수 출력\n",
    "print(count_by_range(a, -1, 3))"
   ]
  },
  {
   "cell_type": "markdown",
   "metadata": {},
   "source": [
    "##### collections - 유용한 자료구조를 제공하는 표준 라이브러리\n",
    "-코딩테스트에서 유용하게 사용되는 것은 deque와 counter\\\n",
    "-기본 리스트 자료형은 데이터 삽입, 삭제 등의 다양한 기능을 제공\\\n",
    "-deque에서는 리스트 자료형과 다르게 인덱싱, 슬라이싱 등의 기능은 사용할 수 없다.\\\n",
    "-다만, 연속적으로 나열된 데이터의 시작 부분이나 끝부분에 데이터 삽입 삭제 시에는 매우 효과적이다."
   ]
  },
  {
   "cell_type": "markdown",
   "metadata": {},
   "source": [
    "deque 활용하기\\\n",
    "-첫 번째 원소를 제거할 때는 popleft()를 사용\\\n",
    "-마지막 원소를 제거할 때는 pop()을 사용\\\n",
    "-첫 번째 인덱스에 원소 x를 삽입할 때 appendleft(x)를 사용\\\n",
    "-마지막 인덱스에 원소를 삽입할 때 append(x)를 사용\\\n",
    "\n",
    "-정리하자면 원소 삽입시에는 append()를 사용하고, 삭제시에는 popleft()를 사용하면 되는 것이다.\\\n",
    "-그러면 먼저 들어온 원소가 항상 먼저 나가게 된다. "
   ]
  },
  {
   "cell_type": "code",
   "execution_count": 70,
   "metadata": {},
   "outputs": [
    {
     "name": "stdout",
     "output_type": "stream",
     "text": [
      "deque([1, 2, 3, 4, 5])\n",
      "[1, 2, 3, 4, 5]\n"
     ]
    }
   ],
   "source": [
    "from collections import deque\n",
    "\n",
    "data=deque([2,3,4])\n",
    "data.appendleft(1)\n",
    "data.append(5)\n",
    "\n",
    "print(data)\n",
    "print(list(data)) #리스트 자료형으로 변환"
   ]
  },
  {
   "cell_type": "markdown",
   "metadata": {},
   "source": [
    "파이썬 collections 라이브러리의 counter는 등장 횟수를 세는 기능을 제공한다.\\\n",
    "구체적으로 리스트와 같은 iterable 객체가 주어졌을 때, 해당 객체 내부의 원소가 몇 번씩 등장했는지를 알려준다.\\\n",
    "원소별 등장 횟수를 세는 기능이 필요할때 아래와 같이 구현하자."
   ]
  },
  {
   "cell_type": "code",
   "execution_count": 71,
   "metadata": {},
   "outputs": [
    {
     "name": "stdout",
     "output_type": "stream",
     "text": [
      "3\n",
      "1\n",
      "{'red': 2, 'blue': 3, 'green': 1}\n"
     ]
    }
   ],
   "source": [
    "from collections import Counter\n",
    "\n",
    "counter=Counter(['red','blue','red','green','blue','blue'])\n",
    "\n",
    "print(counter['blue']) #blue가 등장한 횟수를 출력\n",
    "print(counter['green']) #green이 등장한 횟수를 출력\n",
    "print(dict(counter)) #원소별 횟수를 사전 자료형으로 변환"
   ]
  },
  {
   "cell_type": "markdown",
   "metadata": {},
   "source": [
    "##### math - 자주 사용되는 수학적인 기능을 포함하고 있는 라이브러리\n",
    "-팩토리얼, 제곱근, 최대공약수 등을 계산해주는 기능을 포함하고 있으며 수학 계산시 용이하다"
   ]
  },
  {
   "cell_type": "code",
   "execution_count": 72,
   "metadata": {},
   "outputs": [
    {
     "name": "stdout",
     "output_type": "stream",
     "text": [
      "120\n"
     ]
    }
   ],
   "source": [
    "import math\n",
    "print(math.factorial(5)) #5팩토리얼을 출력"
   ]
  },
  {
   "cell_type": "code",
   "execution_count": 73,
   "metadata": {},
   "outputs": [
    {
     "name": "stdout",
     "output_type": "stream",
     "text": [
      "2.6457513110645907\n"
     ]
    }
   ],
   "source": [
    "import math \n",
    "print (math.sqrt(7)) #7의 제곱근을 출력"
   ]
  },
  {
   "cell_type": "code",
   "execution_count": 74,
   "metadata": {},
   "outputs": [
    {
     "name": "stdout",
     "output_type": "stream",
     "text": [
      "7\n"
     ]
    }
   ],
   "source": [
    "import math\n",
    "print(math.gcd(21,14)) #21과 14의 최대 공약수를 출력"
   ]
  },
  {
   "cell_type": "code",
   "execution_count": 75,
   "metadata": {},
   "outputs": [
    {
     "name": "stdout",
     "output_type": "stream",
     "text": [
      "3.141592653589793\n",
      "2.718281828459045\n"
     ]
    }
   ],
   "source": [
    "import math\n",
    "print(math.pi) #파이값을 출력\n",
    "print(math.e) #자연상수 e 출력"
   ]
  },
  {
   "cell_type": "code",
   "execution_count": 76,
   "metadata": {},
   "outputs": [
    {
     "name": "stdout",
     "output_type": "stream",
     "text": [
      "[[9, 5, 1], [10, 6, 2], [11, 7, 3], [12, 8, 4]]\n"
     ]
    }
   ],
   "source": [
    "# 카카오 2020 기출문제 - 2차원 리스트(행렬)를 90도 회전하는 메서드\n",
    "def rotate_a_matrix_by_90_degree(a):\n",
    "    row_length = len(a)\n",
    "    column_length = len(a[0])\n",
    "    \n",
    "    res=[[0]*row_length for _ in range(column_length)]\n",
    "    for r in range(row_length):\n",
    "        for c in range(column_length):\n",
    "            res[c][row_length -1 -r] = a[r][c]\n",
    "    return res\n",
    "a=[\n",
    "    [1,2,3,4],\n",
    "    [5,6,7,8],\n",
    "    [9,10,11,12]\n",
    "]\n",
    "print(rotate_a_matrix_by_90_degree(a))"
   ]
  },
  {
   "cell_type": "code",
   "execution_count": null,
   "metadata": {},
   "outputs": [],
   "source": []
  }
 ],
 "metadata": {
  "kernelspec": {
   "display_name": "Python 3",
   "language": "python",
   "name": "python3"
  },
  "language_info": {
   "codemirror_mode": {
    "name": "ipython",
    "version": 3
   },
   "file_extension": ".py",
   "mimetype": "text/x-python",
   "name": "python",
   "nbconvert_exporter": "python",
   "pygments_lexer": "ipython3",
   "version": "3.8.5"
  }
 },
 "nbformat": 4,
 "nbformat_minor": 4
}
