{
 "cells": [
  {
   "cell_type": "markdown",
   "metadata": {},
   "source": [
    "### 1. 거스름돈 구하기 문제\n",
    "\n",
    "- 당신은 음식점의 계산을 도와주는 점원이다. 카운터에는 거스름돈으로 사용할 500원, 100원, 50원, 10원짜리 동전이 무한히 존재한다고 가정한다. 손님에게 거슬러 줘야 할 돈이 N원일때 거슬러 줘야 할 동전의 최소 개수를 구하라. 단, 거슬러줘야 할 돈 N은 항상 10의 배수이다."
   ]
  },
  {
   "cell_type": "code",
   "execution_count": 5,
   "metadata": {},
   "outputs": [
    {
     "name": "stdout",
     "output_type": "stream",
     "text": [
      "10\n"
     ]
    }
   ],
   "source": [
    "n = 3260\n",
    "count = 0\n",
    "\n",
    "# check the coin types from larger values\n",
    "coin_types=[500, 100, 50, 10]\n",
    "\n",
    "for coin in coin_types:\n",
    "    count+= n // coin #check the number of coins for each coin types. \n",
    "    n %= coin\n",
    "\n",
    "print(count) #500원짜리 6개, 100원짜리 2개, 50원짜리 1개, 10원짜리 1개. 총 10개"
   ]
  },
  {
   "cell_type": "markdown",
   "metadata": {},
   "source": [
    "#### Check Point\n",
    "\n",
    "- 등호를 이용한 다양한 할당연산자\n",
    "- += : 왼쪽 변수에 오른쪽 값을 더하고 그 값을 왼쪽 변수에 할당\n",
    "- -= : 왼쪽 변수에 오른쪽 값을 빼고 그 값을 왼쪽 변수에 할당\n",
    "- *= : 왼쪽 변수에 오른쪽 값을 곱하고 그 값을 왼쪽 변수에 할당\n",
    "- /= : 왼쪽 변수에 오른쪽 값을 나눈 후 그 값을 왼쪽 변수에 할당\n",
    "- %= : 왼쪽 변수에 오른쪽 값을 나눈 후 그 나머지를 왼쪽 변수에 할당\n",
    "- //= : 왼쪽 변수에 오른쪽 값을 나눈 후 그 몫을 왼쪽 변수에 할당\n",
    "- **= : 왼쪽 변수에 오른쪽 값을 제곱한 후 그 결과를 왼쪽 변수에 할당"
   ]
  },
  {
   "cell_type": "markdown",
   "metadata": {},
   "source": [
    "### 2. 큰수의 법칙"
   ]
  },
  {
   "cell_type": "code",
   "execution_count": 8,
   "metadata": {},
   "outputs": [
    {
     "name": "stdout",
     "output_type": "stream",
     "text": [
      "5 8 4\n",
      "2 4 9 8 4\n",
      "71\n"
     ]
    }
   ],
   "source": [
    "# TYPE 1\n",
    "\n",
    "#입력값인 N, M, K 값을 공백으로 구분하여 입력받기\n",
    "n, m, k = map(int, input().split())\n",
    "\n",
    "#N개의 수를 공백으로 구분하여 입력받기\n",
    "data = list(map(int, input().split()))\n",
    "\n",
    "data.sort() #먼저 정렬해주고\n",
    "first = data[n-1]\n",
    "second = data[n-2]\n",
    "\n",
    "result=0\n",
    "\n",
    "while True:\n",
    "    for i in range(k):\n",
    "        if m == 0: #m이 0이면 반복 그만해야겠지. 숫자가 전부 더해진거니까\n",
    "            break\n",
    "        result += first #가장 큰 수를 k번 더하는거다\n",
    "        m -= 1 #더할때마다 1씩 빼주고\n",
    "    if m ==0:\n",
    "        break\n",
    "    result += second #두번째 큰 수를 한번만 더하기\n",
    "    m -= 1\n",
    "\n",
    "print(result)"
   ]
  },
  {
   "cell_type": "code",
   "execution_count": 9,
   "metadata": {},
   "outputs": [
    {
     "name": "stdout",
     "output_type": "stream",
     "text": [
      "5 8 3\n",
      "2 4 9 8 4\n",
      "70\n"
     ]
    }
   ],
   "source": [
    "# TYPE 2\n",
    "\n",
    "#위에서와 마찬가지로 입력값 받아보자\n",
    "#입력값인 N, M, K 값을 공백으로 구분하여 입력받기\n",
    "n, m, k = map(int, input().split())\n",
    "\n",
    "#N개의 수를 공백으로 구분하여 입력받기\n",
    "data = list(map(int, input().split()))\n",
    "\n",
    "data.sort() #입력받은 수 정렬\n",
    "first = data[n-1]\n",
    "second = data[n-2]\n",
    "\n",
    "#가장 큰 수가 더해지는 횟수 계산\n",
    "count = int(m/(k+1)) * k\n",
    "count += m % (k+1)\n",
    "\n",
    "result=0\n",
    "result += (count) * first #가장 큰 수 더하기\n",
    "result += (m-count) * second #두번째로 큰 수 더하기\n",
    "\n",
    "print(result)"
   ]
  },
  {
   "cell_type": "markdown",
   "metadata": {},
   "source": [
    "### 3. 숫자 카드 게임\n",
    "- 규칙1: 카드들이 nxm 형태로 놓여있다.\n",
    "- 규칙2: 뽑고자 하는 카드가 포함되어 있는 행을 먼저 선택한다.\n",
    "- 규칙3: 선택된 행에 포함된 카드 중 가장 낮은 카드를 뽑아야 한다.\n",
    "- 규칙4: 처음 카드를 골라낼 때, 최종적으로 가장 높은 숫자의 카드를 뽑을 수 있도록 전략을 세워야 한다."
   ]
  },
  {
   "cell_type": "code",
   "execution_count": 11,
   "metadata": {},
   "outputs": [
    {
     "name": "stdout",
     "output_type": "stream",
     "text": [
      "3 3\n",
      "4 2 4\n",
      "5 3 2\n",
      "1\n",
      "2\n"
     ]
    }
   ],
   "source": [
    "# TYPE 1\n",
    "\n",
    "#n,m을 공백으로 구분하여 (행,열) 입력받자\n",
    "n,m = map(int, input().split())\n",
    "\n",
    "result=0\n",
    "#한줄씩 카드 값을 입력받아서 확인해보자\n",
    "for i in range(n): #행 수만큼 반복\n",
    "    data = list(map(int, input().split()))\n",
    "    #현재 줄에서 가장 작은 수 찾아보자\n",
    "    min_value=min(data)\n",
    "    \n",
    "    #가장 작은 수 들중에서 (각 행에서 나온)\n",
    "    result=max(result, min_value)\n",
    "print(result)"
   ]
  },
  {
   "cell_type": "code",
   "execution_count": 12,
   "metadata": {},
   "outputs": [
    {
     "name": "stdout",
     "output_type": "stream",
     "text": [
      "3 3\n",
      "4 1 2\n",
      "5 3 4\n",
      "4 4 1\n",
      "3\n"
     ]
    }
   ],
   "source": [
    "# TYPE 2\n",
    "\n",
    "#n,m을 공백으로 구분하여 (행,열) 입력받자\n",
    "n,m = map(int, input().split())\n",
    "\n",
    "result=0\n",
    "#한줄씩 카드 값을 입력받아서 확인해보자\n",
    "for i in range(n): #행 수만큼 반복\n",
    "    data = list(map(int, input().split()))\n",
    "    #현재 줄에서 가장 작은 수 찾아보자\n",
    "    min_value=10001\n",
    "    \n",
    "    for a in data:\n",
    "        min_value=min(min_value, a)\n",
    "    #가장 작은 수 들중에서 가장 큰 수 찾기\n",
    "    result = max(result, min_value)\n",
    "print(result)"
   ]
  },
  {
   "cell_type": "markdown",
   "metadata": {},
   "source": [
    "### 4. 1이 될 때까지\n",
    "- 과정1: 어떤 숫자 N에서 1을 뺀다.\n",
    "- 과정2: N을 K로 나눈다.\n",
    "- 두 과정중에 하나를 선택하여 진행한다"
   ]
  },
  {
   "cell_type": "code",
   "execution_count": 16,
   "metadata": {},
   "outputs": [
    {
     "name": "stdout",
     "output_type": "stream",
     "text": [
      "14 3\n",
      "5\n"
     ]
    }
   ],
   "source": [
    "# TYPE 1\n",
    "\n",
    "n, k = map(int, input().split())\n",
    "count=0\n",
    "\n",
    "#N이 K이상이라면 K로 계속해서 나누기\n",
    "while n >=k:\n",
    "    \n",
    "    #n이 k로 나누어 떨어지지 않는다면 n에서 1씩 빼기\n",
    "    while n % k != 0:\n",
    "        n -= 1\n",
    "        count += 1\n",
    "    #아닐경우에는 k로 나누기\n",
    "    n //= k\n",
    "    count += 1\n",
    "\n",
    "#마지막으로 남은 수에 대하여 1씩 빼기(아직 안끝났다면)\n",
    "while n>1:\n",
    "    n -= 1\n",
    "    count += 1\n",
    "print(count)"
   ]
  },
  {
   "cell_type": "code",
   "execution_count": 17,
   "metadata": {},
   "outputs": [
    {
     "name": "stdout",
     "output_type": "stream",
     "text": [
      "14 3\n",
      "5\n"
     ]
    }
   ],
   "source": [
    "# TYPE 2\n",
    "\n",
    "# n,k 를 공백으로 구분하여 입력받기\n",
    "n, k = map(int, input().split())\n",
    "count = 0\n",
    "\n",
    "while True:\n",
    "    # (n == k 로 나누어 떨어지는 수)가 될때까지 1씩 빼기\n",
    "    target = (n//k) * k\n",
    "    count += (n-target)\n",
    "    n=target\n",
    "    \n",
    "    #n이 k보다 작을 때 (더이상 나눌 수 없을 때) 반복문 탈출\n",
    "    if n<k:\n",
    "        break\n",
    "    #k로 나누기\n",
    "    count += 1\n",
    "    n//= k\n",
    "\n",
    "# 마지막으로 남은 수에 대하여 1씩 빼기\n",
    "count += (n-1)\n",
    "print(count)"
   ]
  },
  {
   "cell_type": "code",
   "execution_count": null,
   "metadata": {},
   "outputs": [],
   "source": []
  }
 ],
 "metadata": {
  "kernelspec": {
   "display_name": "Python 3",
   "language": "python",
   "name": "python3"
  },
  "language_info": {
   "codemirror_mode": {
    "name": "ipython",
    "version": 3
   },
   "file_extension": ".py",
   "mimetype": "text/x-python",
   "name": "python",
   "nbconvert_exporter": "python",
   "pygments_lexer": "ipython3",
   "version": "3.7.4"
  }
 },
 "nbformat": 4,
 "nbformat_minor": 2
}
