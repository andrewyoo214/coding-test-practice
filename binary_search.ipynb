{
 "cells": [
  {
   "cell_type": "markdown",
   "id": "sitting-lover",
   "metadata": {},
   "source": [
    "### 1. Sequential search\n",
    "- 리스트에서 우리가 원하는 데이터를 찾기 위해 앞에서부터 순차적으로 확인하는 방법\n",
    "- 시간은 오래 걸릴지 몰라도 항상 원하는 원소를 찾을 수 있다는 장점"
   ]
  },
  {
   "cell_type": "code",
   "execution_count": 2,
   "id": "blessed-holiday",
   "metadata": {},
   "outputs": [
    {
     "name": "stdout",
     "output_type": "stream",
     "text": [
      "생성할 원소 개수를 입력하고 한 칸 띄고, 찾을 문자열을 입력하시오\n",
      "5 Andrew\n",
      "위의 원소 개수만큼 문자열을 입력하기. 구분은 띄어쓰기 한 칸\n",
      "David James Kane Andrew Ronaldo\n",
      "4\n"
     ]
    }
   ],
   "source": [
    "def sequential_search(n, target, array):\n",
    "    #각 원소를 하나씩 확인하는 단계\n",
    "    for i in range(n):\n",
    "        #현재 위치의 원소가 찾고자 하는 원소와 동일한가 체크\n",
    "        if array[i] == target:\n",
    "            return i + 1 # 현재의 위치 반환 (인덱스는 0부터 시작하기에 1을 더함)\n",
    "    \n",
    "print(\"생성할 원소 개수를 입력하고 한 칸 띄고, 찾을 문자열을 입력하시오\")\n",
    "# 입력 값 받아오자\n",
    "input_data = input().split()\n",
    "n = int(input_data[0]) #원소의 개수\n",
    "target = input_data[1] #우리가 찾고자 하는 문자열\n",
    "\n",
    "print(\"위의 원소 개수만큼 문자열을 입력하기. 구분은 띄어쓰기 한 칸\")\n",
    "array=input().split()\n",
    "\n",
    "print(sequential_search(n, target, array))"
   ]
  },
  {
   "cell_type": "markdown",
   "id": "casual-importance",
   "metadata": {},
   "source": [
    "### 2. Binary Search\n",
    "- 배열 내부의 데이터가 이미 정렬이 되어 있어야만 하는 알고리즘\n",
    "- 탐색 범위를 반씩 좁혀가며 데이터를 탐색하는 특징\n",
    "- 3가지 변수를 씀: 시작점, 끝점, 중간점\n",
    "- 찾으려는 데이터와 중간점 위치에 있는 데이터를 반복 비교, 탐색"
   ]
  },
  {
   "cell_type": "code",
   "execution_count": 4,
   "id": "indoor-queens",
   "metadata": {},
   "outputs": [
    {
     "name": "stdout",
     "output_type": "stream",
     "text": [
      "10 7\n",
      "1 3 5 7 9 11 13 15 17 19\n",
      "4\n"
     ]
    }
   ],
   "source": [
    "# recursively implemented binary search\n",
    "def binary_search(array, target, start, end): #배열, 원하는 값, 시작점, 끝점\n",
    "    if start>end: #\n",
    "        return None\n",
    "    mid = (start + end) // 2 #중간값을 알아야 하기에 start+end 를 2로 나누어서 중간값 찾아\n",
    "    #찾으면 중간점 인덱스를 반환\n",
    "    if array[mid] == target:\n",
    "        return mid\n",
    "    #중간점의 값보다 찾는 값이 작은 경우 왼쪽 확인\n",
    "    elif array[mid] > target:\n",
    "        return binary_search(array, target, start, mid-1) #시작점부터 mid-1까지인 절반을 탐색\n",
    "    #중간값의 값보다 찾는 값이 큰 경우 오른쪽을 확인\n",
    "    else:\n",
    "        return binary_search(array, target, mid+1, end) #mid+1부터 끝점 까지인 절반을 탐색\n",
    "\n",
    "#n과 target 입력값\n",
    "n, target = list(map(int, input().split())) #n은 원소길이, target은 찾고싶은 값\n",
    "#전체 원소 입력\n",
    "array = list(map(int, input().split())) #array값을 입력받자. 띄어쓰기로 나뉜값\n",
    "\n",
    "#binary\n",
    "result = binary_search(array, target, 0, n-1) #시작은 0\n",
    "if result == None:\n",
    "    print(\"원소가 없습니다\")\n",
    "else:\n",
    "    print(result + 1)"
   ]
  },
  {
   "cell_type": "code",
   "execution_count": 5,
   "id": "boxed-ordering",
   "metadata": {},
   "outputs": [
    {
     "name": "stdout",
     "output_type": "stream",
     "text": [
      "10 7\n",
      "1 3 5 7 9 11 13 15 17 19\n",
      "4\n"
     ]
    }
   ],
   "source": [
    "# iteratively implemented binary search\n",
    "def binary_search(array, target, start, end):\n",
    "    while start<=end:\n",
    "        mid = (start+end) // 2\n",
    "        #찾은 경우 중간점 인덱스를 반환\n",
    "        if array[mid] == target:\n",
    "            return mid\n",
    "        #중간점의 값보다 찾고자 하는 값이 작은 경우는 왼쪽 절반을 탐색\n",
    "        elif array[mid] > target:\n",
    "            end = mid - 1\n",
    "        #중간점의 값보다 찾고자 하는 값이 큰 경우는 오른쪽 절반을 탐색\n",
    "        else:\n",
    "            start = mid + 1\n",
    "    return None\n",
    "\n",
    "#n과 target 입력값\n",
    "n, target = list(map(int, input().split())) #n은 원소길이, target은 찾고싶은 값\n",
    "#전체 원소 입력\n",
    "array = list(map(int, input().split())) #array값을 입력받자. 띄어쓰기로 나뉜값\n",
    "\n",
    "#binary\n",
    "result = binary_search(array, target, 0, n-1) #시작은 0\n",
    "if result == None:\n",
    "    print(\"원소가 없습니다\")\n",
    "else:\n",
    "    print(result + 1)"
   ]
  },
  {
   "cell_type": "markdown",
   "id": "legislative-demonstration",
   "metadata": {},
   "source": [
    "##### 입력값 빠르게 받기"
   ]
  },
  {
   "cell_type": "code",
   "execution_count": 10,
   "id": "respective-montana",
   "metadata": {},
   "outputs": [
    {
     "name": "stdout",
     "output_type": "stream",
     "text": [
      "\n"
     ]
    }
   ],
   "source": [
    "import sys\n",
    "\n",
    "#하나의 문자열 데이터 입력받기\n",
    "input_data = sys.stdin.readline().rstrip()\n",
    "\n",
    "#입력받은 문자열을 그대로 출력\n",
    "print(input_data)"
   ]
  },
  {
   "cell_type": "markdown",
   "id": "alpine-philadelphia",
   "metadata": {},
   "source": [
    "### 3. 고유번호 가진 부품 찾기\n",
    "- n개의 부품이 있음\n",
    "- 손님이 m개 종류의 부품을 대량으로 구매. 이때 가게 안에 부품이 모두 있는지를 확인"
   ]
  },
  {
   "cell_type": "code",
   "execution_count": 12,
   "id": "mature-fishing",
   "metadata": {},
   "outputs": [
    {
     "name": "stdout",
     "output_type": "stream",
     "text": [
      "5\n",
      "8 3 7 9 2\n",
      "3\n",
      "5 7 9\n",
      "no yes yes "
     ]
    }
   ],
   "source": [
    "# solution by binary search algorithm\n",
    "def binary_search(array, target, start, end):\n",
    "    while start <= end:\n",
    "        mid = (start+end) // 2\n",
    "        #찾았으면 중간점 인덱스 반환\n",
    "        if array[mid] == target:\n",
    "            return mid\n",
    "        #중간점의 값보다 찾고자 하는 값이 작은 경우는 왼쪽 절반을 탐색\n",
    "        elif array[mid] > target:\n",
    "            end = mid - 1\n",
    "        #중간점의 값보다 찾고자 하는 값이 큰 경우는 오른쪽 절반을 탐색\n",
    "        else:\n",
    "            start = mid + 1\n",
    "    return None\n",
    "\n",
    "#입력값 받아보자\n",
    "n = int(input())\n",
    "#부품 번호를 공백으로 구분하여 입력\n",
    "array = list(map(int, input().split()))\n",
    "array.sort() #사전에 정렬해야함. 정렬된 것에 대해서 이진탐색 가능하니까\n",
    "\n",
    "#m 입력\n",
    "m=int(input())\n",
    "#손님이 요청한 부품 번호 공백으로 구분 입력\n",
    "x = list(map(int, input().split()))\n",
    "\n",
    "#손님이 확인 요청한 부품 번호 하나씩 체크해보자\n",
    "for i in x:\n",
    "    #해당 부품이 존재하는지 확인\n",
    "    result = binary_search(array, i, 0, n-1)\n",
    "    if result != None:\n",
    "        print('yes', end=' ')\n",
    "    else:\n",
    "        print('no', end=' ')"
   ]
  },
  {
   "cell_type": "code",
   "execution_count": 13,
   "id": "rising-weekly",
   "metadata": {},
   "outputs": [
    {
     "name": "stdout",
     "output_type": "stream",
     "text": [
      "5\n",
      "8 3 7 9 2\n",
      "3\n",
      "5 7 9\n",
      "no yes yes "
     ]
    }
   ],
   "source": [
    "#solution by count sort\n",
    "\n",
    "#n을 입력받기\n",
    "n = int(input())\n",
    "array = [0] *1000001\n",
    "\n",
    "#가게에 있는 전체 부품 번호 입력받아 기록\n",
    "for i in input().split():\n",
    "    array[int(i)] = 1\n",
    "\n",
    "#m 입력받기\n",
    "m = int(input())\n",
    "#손님이 확인 요청한 전체 부품 번호를 공백으로 구분 입력\n",
    "x = list(map(int, input().split()))\n",
    "\n",
    "#손님이 확인 요청한 부품 번호를 하나씩 확인\n",
    "for i in x:\n",
    "    #해당 부품 존재하는지 확인\n",
    "    if array[i] == 1:\n",
    "        print('yes', end=' ')\n",
    "    else:\n",
    "        print('no', end=' ')"
   ]
  },
  {
   "cell_type": "code",
   "execution_count": 14,
   "id": "opening-updating",
   "metadata": {},
   "outputs": [
    {
     "name": "stdout",
     "output_type": "stream",
     "text": [
      "5\n",
      "8 3 7 9 2\n",
      "3\n",
      "5 7 9\n",
      "no yes yes "
     ]
    }
   ],
   "source": [
    "#solution by set data structure\n",
    "n = int(input())\n",
    "#가게에 있는 전체 부품 번호 입력받아 집합 자료형에 기록\n",
    "array = set(map(int, input().split()))\n",
    "\n",
    "m = int(input())\n",
    "#손님이 확인 요청한 전체 부품 번호를 공백으로 구분해 입력\n",
    "x = list(map(int, input().split()))\n",
    "\n",
    "#손님이 확인 요청한 부품 번호를 하나씩 확인\n",
    "for i in x:\n",
    "    #해당 부품이 존재하는지\n",
    "    if i in array:\n",
    "        print('yes', end=' ')\n",
    "    else:\n",
    "        print('no', end=' ')"
   ]
  },
  {
   "cell_type": "markdown",
   "id": "spatial-generic",
   "metadata": {},
   "source": [
    "### 4. 떡볶이 떡 만들기\n",
    "- 길이가 일정하지 않지만 한 봉지 안에 들어가는 떡의 총 길이는 절단기로 잘라서 맞춰준다\n",
    "- 높이 h를 지정하면 줄지어진 떡을 한번에 절단. \n",
    "- 높이가 h보다 긴 떡은 h 위의 부분이 잘릴 것이고, 낮은 떡은 잘리지 않는다.\n",
    "- 손님은 잘려 나간 부분들을 모아서 가져간다. 손님은 총 길이 m만큼을 요청\n",
    "- 적어도 m만큼의 떡을 집에 가져가기 위해 절단기에 설정할 수 있는 높이의 최댓값 출력"
   ]
  },
  {
   "cell_type": "code",
   "execution_count": 15,
   "id": "structural-identification",
   "metadata": {},
   "outputs": [
    {
     "name": "stdout",
     "output_type": "stream",
     "text": [
      "4 6\n",
      "19 15 10 17\n",
      "15\n"
     ]
    }
   ],
   "source": [
    "# 떡의 개수는 n, 떡의 길이는 m\n",
    "n, m = list(map(int, input().split())) \n",
    "\n",
    "# 떡의 개별 높이\n",
    "array = list(map(int, input().split()))\n",
    "\n",
    "# binary-- start, end 설정\n",
    "start = 0\n",
    "end = max(array)\n",
    "\n",
    "#binary (iteratively)\n",
    "result=0\n",
    "while(start<=end): #시작포인트가 당연히 end (max값)보다 작아야 한다.\n",
    "    total = 0 #손님이 가져갈 떡의 양을 total로\n",
    "    mid = (start+end) // 2 #중간값 설정하고\n",
    "    for x in array:\n",
    "        #잘랐을 때의 떡의 양 계산\n",
    "        if x>mid:\n",
    "            total += x - mid\n",
    "    #만약에 total 값이 손님 요청 값보다 부족하면 자르는 지점을 왼쪽으로 한칸씩\n",
    "    if total < m:\n",
    "        end = mid -1\n",
    "    # 충분하면 좀 덜 잘라야지 (오른쪽 부분 탐색)\n",
    "    else:\n",
    "        result = mid #최대한 덜 잘라야 하니까 이제 result에 기록\n",
    "        start = mid+1\n",
    "\n",
    "print(result)"
   ]
  },
  {
   "cell_type": "markdown",
   "id": "fossil-henry",
   "metadata": {},
   "source": [
    "##### Check Point\n",
    "- sorting\n",
    "- tree data structure based algorithm\n",
    "- binary search tree"
   ]
  }
 ],
 "metadata": {
  "kernelspec": {
   "display_name": "Python 3",
   "language": "python",
   "name": "python3"
  },
  "language_info": {
   "codemirror_mode": {
    "name": "ipython",
    "version": 3
   },
   "file_extension": ".py",
   "mimetype": "text/x-python",
   "name": "python",
   "nbconvert_exporter": "python",
   "pygments_lexer": "ipython3",
   "version": "3.7.9"
  }
 },
 "nbformat": 4,
 "nbformat_minor": 5
}
