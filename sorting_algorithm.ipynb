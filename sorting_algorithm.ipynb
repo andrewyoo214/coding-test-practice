{
 "cells": [
  {
   "cell_type": "markdown",
   "id": "intellectual-convention",
   "metadata": {},
   "source": [
    "### Sorting Algorithms\n",
    "- selection sort\n",
    "- insertion sort\n",
    "- quick sort\n",
    "- count sort"
   ]
  },
  {
   "cell_type": "markdown",
   "id": "devoted-incentive",
   "metadata": {},
   "source": [
    "### 1. selection sort\n",
    "- 데이터가 무작위로 나열 되어 있음\n",
    "- 이 중에서 가장 작은 데이터를 맨 앞에 있는 데이터와 바꾸고, 그다음 작은 데이터를 앞에서 두번째 데이터와 바꾸는... 과정을 반복"
   ]
  },
  {
   "cell_type": "code",
   "execution_count": 1,
   "id": "passing-circular",
   "metadata": {},
   "outputs": [
    {
     "name": "stdout",
     "output_type": "stream",
     "text": [
      "[0, 1, 2, 3, 4, 5, 6, 7, 8, 9]\n"
     ]
    }
   ],
   "source": [
    "array = [7,5,9,0,3,1,6,2,4,8]\n",
    "\n",
    "for i in range(len(array)):\n",
    "    min_index = i #가장 작은 원소의 인덱스\n",
    "    for j in range(i+1, len(array)):\n",
    "        if array[min_index] > array[j]:\n",
    "            min_index = j\n",
    "    array[i], array[min_index] = array[min_index], array[i] #swqp the data index\n",
    "print(array)"
   ]
  },
  {
   "cell_type": "code",
   "execution_count": 2,
   "id": "nonprofit-literacy",
   "metadata": {},
   "outputs": [
    {
     "name": "stdout",
     "output_type": "stream",
     "text": [
      "[5, 3]\n"
     ]
    }
   ],
   "source": [
    "# python swap source code\n",
    "# 두 자리의 인덱스 원소를 교체하고 싶을 때\n",
    "array = [3,5]\n",
    "array[0], array[1] = array[1], array[0]\n",
    "\n",
    "print(array)"
   ]
  },
  {
   "cell_type": "markdown",
   "id": "ruled-developer",
   "metadata": {},
   "source": [
    "### 2. insertion sort\n",
    "- 데이터를 하나씩 확인하면서 각 데이터를 적절한 위치에 삽입하기\n",
    "- 첫 번째 데이터는 그 자체로 정렬되어 있다고 판단하여 두 번째 데이터부터 정렬을 시작한다"
   ]
  },
  {
   "cell_type": "code",
   "execution_count": 4,
   "id": "successful-container",
   "metadata": {},
   "outputs": [
    {
     "name": "stdout",
     "output_type": "stream",
     "text": [
      "[0, 1, 2, 3, 4, 5, 6, 7, 8, 9]\n"
     ]
    }
   ],
   "source": [
    "array=[7,5,9,0,3,1,6,2,4,8]\n",
    "\n",
    "for i in range(1, len(array)):\n",
    "    for j in range(i, 0, -1): #i번째부터 1까지 하나씩 감소해가면서 반복하는 문법임\n",
    "        if array[j] < array[j-1]: #만약에 앞에 있는 애보다 작으면\n",
    "            array[j], array[j-1] = array[j-1], array[j]\n",
    "        else: #앞에 있는 애가 더 작거나 같으면\n",
    "            break\n",
    "\n",
    "print(array)"
   ]
  },
  {
   "cell_type": "markdown",
   "id": "weighted-costs",
   "metadata": {},
   "source": [
    "### 3. quick sort\n",
    "- 가장 많이 사용되는 정렬 알고리즘\n",
    "- 기준 데이터를 설정하고 그 기준보다 큰 데이터와 작은 데이터의 위치를 바꾸기\n",
    "- pivot 개념이 사용된다. (큰 숫자, 작은 숫자 교환 시의 기준)\n",
    "1. 리스트의 첫번째 데이터를 피벗으로 설정. 이후 왼쪽에서부터 해당 값보다 큰 데이터를 선택하고, 오른쪽에서부터 해당 값보다 작은값을 선택. 두 데이터의 위치를 변경\n",
    "2. 다시 피벗보다 큰 데이터, 작은데이터를 찾고 위치 변경 (반복)\n",
    "3. 단, 왼쪽에서 찾는 값과 오른쪽에서 찾는 값의 위치가 엇갈린 경우에는 피벗과 작은 데이터를 서로 변경\n",
    "4. 이제 피벗이 이동하였고, 왼쪽에는 피벗보다 작은, 오른쪽에는 피벗보다 큰 값들이 나열됨 (partition process)\n",
    "5. 왼쪽 파트와 오른쪽 파트 각각에서 위의 과정을 진행한다. "
   ]
  },
  {
   "cell_type": "code",
   "execution_count": 8,
   "id": "polyphonic-fiction",
   "metadata": {},
   "outputs": [
    {
     "name": "stdout",
     "output_type": "stream",
     "text": [
      "[0, 1, 2, 3, 4, 5, 6, 7, 8, 9]\n"
     ]
    }
   ],
   "source": [
    "# quick sort type 1\n",
    "array=[5,7,9,0,3,1,6,2,4,8]\n",
    "\n",
    "def quick_sort(array, start, end):\n",
    "    if start >= end:\n",
    "        return\n",
    "    pivot = start #일단 첫번째 원소를 pivot으로 놓고 진행\n",
    "    left = start + 1\n",
    "    right = end\n",
    "    while left <= right:\n",
    "        #피벗보다 큰 데이터를 찾을때까지 반복하며 나아감\n",
    "        while left <= end and array[left] <= array[pivot]:\n",
    "            left += 1\n",
    "        #피벗보다 작은 데이터를 찾을 때까지 반복\n",
    "        while right > start and array[right] >= array[pivot]:\n",
    "            right -= 1\n",
    "        if left >right: #방향이 엇갈리게 되면 이제 피벗을 옮겨야 할 차례임\n",
    "            array[right], array[pivot] = array[pivot], array[right] #swap을 통해서 바꿔줌\n",
    "        else: #엇갈리지 않으면 작은 데이터와 큰 데이터를 바꿔\n",
    "            array[left], array[right] = array[right], array[left]\n",
    "    \n",
    "    #옮겨진 피벗을 기준으로 왼쪽과 오른쪽이 갈리게 되었고, 이제 각각 정렬을 진행시키자\n",
    "    quick_sort(array, start, right-1 )\n",
    "    quick_sort(array, right+1, end)\n",
    "\n",
    "quick_sort(array, 0, len(array)-1)\n",
    "print(array)"
   ]
  },
  {
   "cell_type": "code",
   "execution_count": 9,
   "id": "adult-title",
   "metadata": {},
   "outputs": [
    {
     "name": "stdout",
     "output_type": "stream",
     "text": [
      "[0, 1, 2, 3, 4, 5, 6, 7, 8, 9]\n"
     ]
    }
   ],
   "source": [
    "# quick sort type 2\n",
    "array = [5,7,9,0,3,1,6,2,4,8]\n",
    "\n",
    "def quick_sort(array):\n",
    "    #리스트가 하나 이하의 원소만을 담고 있다면 종료\n",
    "    if len(array) <= 1:\n",
    "        return array\n",
    "    \n",
    "    pivot = array[0] #피벗은 첫번째 원소로 지정\n",
    "    tail = array[1:] #피벗을 제외한 두번째부터 모든 원소를 tail이라고 둔다\n",
    "    \n",
    "    left_side = [x for x in tail if x <= pivot] #분할된 후의 왼쪽 부분\n",
    "    right_side = [x for x in tail if x > pivot] #분할된 후의 오른쪽 부분\n",
    "    \n",
    "    #분할 이후 왼쪽과 오른쪽 부분에서 각각 정렬을 수행하고, 전체 리스트 반환\n",
    "    return quick_sort(left_side) + [pivot] + quick_sort(right_side)\n",
    "\n",
    "print(quick_sort(array))"
   ]
  },
  {
   "cell_type": "markdown",
   "id": "unable-polymer",
   "metadata": {},
   "source": [
    "### 4. count sort\n",
    "- 특정 조건이 부합할 때 사용 가능하지만 상당히 빠른 정렬 알고리즘에 속한다\n",
    "- 일반적으로 가장 큰 데이터와 가장 작은 데이터의 차이가 1,000,000을 넘지 않을 때 효과적인 사용이 가능하다\n",
    "- ex) 성적 데이터를 정렬 시 효과적이다\n",
    "\n",
    "1. 가장 큰 데이터와 가장 작은 데이터의 범위가 모두 담길 수 있도록 하나의 리스트를 생성한다.\n",
    "2. 데이터를 하나씩 확인하며 데이터의 값과 동일한 인덱스의 데이터를 1씩 증가시킨다\n",
    "3. 리스트에는 각 데이터가 몇 번씩 등장했는지 그 횟수가 기록된다. \n",
    "4. 위의 리스트에 저장된 데이터 자체가 정렬된 형태 그 자체라고 할 수 있다. \n",
    "5. 정렬된 결과를 직접 확인하고 싶다면, 리스트의 첫 번째 데이터부터 하나씩 그 값만큼 인덱스를 출력하면 된다"
   ]
  },
  {
   "cell_type": "code",
   "execution_count": 10,
   "id": "another-citizen",
   "metadata": {},
   "outputs": [
    {
     "name": "stdout",
     "output_type": "stream",
     "text": [
      "0 0 1 1 2 2 3 4 5 5 6 7 8 9 9 "
     ]
    }
   ],
   "source": [
    "#모든 원소의 값이 0보다 크거나 같다고 가정\n",
    "array = [7,5,9,0,3,1,6,2,9,1,4,8,0,5,2]\n",
    "\n",
    "#모든 범위를 포함하는 큰 리스트를 선언해주어야 한다. (모든 값은 0의 초기값을 가지도록)\n",
    "count = [0] * (max(array)+1)\n",
    "\n",
    "for i in range(len(array)):\n",
    "    count[array[i]] += 1 #각 데이터에 해당하는 인덱스의 값 증가\n",
    "\n",
    "for i in range(len(count)): #리스트에 기록된 정렬 정보를 확인하기\n",
    "    for j in range(count[i]):\n",
    "        print(i, end=' ')"
   ]
  },
  {
   "cell_type": "markdown",
   "id": "collected-diagnosis",
   "metadata": {},
   "source": [
    "##### 파이썬에 내장되어 있는 정렬 라이브러리 사용하기"
   ]
  },
  {
   "cell_type": "code",
   "execution_count": 11,
   "id": "official-fortune",
   "metadata": {},
   "outputs": [
    {
     "name": "stdout",
     "output_type": "stream",
     "text": [
      "[0, 1, 2, 3, 4, 5, 6, 7, 8, 9]\n"
     ]
    }
   ],
   "source": [
    "array = [7,5,9,0,3,1,6,2,4,8]\n",
    "\n",
    "result=sorted(array)\n",
    "print(result)"
   ]
  },
  {
   "cell_type": "code",
   "execution_count": 12,
   "id": "electrical-hobby",
   "metadata": {},
   "outputs": [
    {
     "name": "stdout",
     "output_type": "stream",
     "text": [
      "[0, 1, 2, 3, 4, 5, 6, 7, 8, 9]\n"
     ]
    }
   ],
   "source": [
    "array = [7,5,9,0,3,1,6,2,4,8]\n",
    "\n",
    "array.sort()\n",
    "print(array)"
   ]
  },
  {
   "cell_type": "code",
   "execution_count": 13,
   "id": "sized-theory",
   "metadata": {},
   "outputs": [
    {
     "name": "stdout",
     "output_type": "stream",
     "text": [
      "[('banana', 2), ('carrot', 3), ('apple', 5)]\n"
     ]
    }
   ],
   "source": [
    "array=[('banana',2), ('apple',5), ('carrot',3)]\n",
    "\n",
    "def setting(data):\n",
    "    return data[1]\n",
    "\n",
    "result = sorted(array, key=setting)\n",
    "print(result)"
   ]
  },
  {
   "cell_type": "markdown",
   "id": "patient-impression",
   "metadata": {},
   "source": [
    "### 5. top-down sorting\n",
    "- 큰 수부터 작은 수의 순서로 정렬하기(내림차순)"
   ]
  },
  {
   "cell_type": "code",
   "execution_count": 14,
   "id": "hindu-ranking",
   "metadata": {},
   "outputs": [
    {
     "name": "stdout",
     "output_type": "stream",
     "text": [
      "3\n",
      "15\n",
      "27\n",
      "12\n",
      "27 15 12 "
     ]
    }
   ],
   "source": [
    "# 먼저 원소 갯수 n을 입력받는다\n",
    "n = int(input())\n",
    "\n",
    "# n개의 정수를 입력받아서 리스트에 저장한다\n",
    "array=[]\n",
    "for i in range(n):\n",
    "    array.append(int(input()))\n",
    "    \n",
    "#파이썬 기본 정렬 라이브러리를 이용하여 정렬 수행\n",
    "array = sorted(array, reverse=True)\n",
    "\n",
    "# 정렬된 결과 출력해보자\n",
    "for i in array:\n",
    "    print(i, end=' ')"
   ]
  },
  {
   "cell_type": "markdown",
   "id": "jewish-zealand",
   "metadata": {},
   "source": [
    "### 6. 성적이 낮은 순서로 학생 출력\n",
    "- n명의 학생 정보 중 조건에 맞게 학생 이름만 순서대로"
   ]
  },
  {
   "cell_type": "code",
   "execution_count": null,
   "id": "educational-daily",
   "metadata": {},
   "outputs": [],
   "source": [
    "# 학생 수 n입력받기\n",
    "n = int(input())\n",
    "\n",
    "#n명의 학생 정보를 리스트에 저장\n",
    "array=[]\n",
    "for i in range(n):\n",
    "    input_data = input().split()\n",
    "    #이름은 문자열 그대로, 점수는 정수형으로\n",
    "    array.append((input_data[0], int(input_data[1])))\n",
    "\n",
    "#key값을 활용하여 점수를 기준으로 정렬하자\n",
    "array = sorted(array, key=lambda stduetn: student[1])\n",
    "\n",
    "#정렬이 수행된 결과를 출력하자\n",
    "for student in array:\n",
    "    print(student[0], end=' ')"
   ]
  },
  {
   "cell_type": "markdown",
   "id": "elect-remedy",
   "metadata": {},
   "source": [
    "### 7. 두 배열의 원소 교체하기\n",
    "- A 배열과 B 배열의 원소를 K번 swap해서 A배열의 합을 최대로 만들기"
   ]
  },
  {
   "cell_type": "code",
   "execution_count": 16,
   "id": "respective-journal",
   "metadata": {},
   "outputs": [
    {
     "name": "stdout",
     "output_type": "stream",
     "text": [
      "5 3\n",
      "1 2 5 4 3\n",
      "5 5 6 6 5\n",
      "26\n"
     ]
    }
   ],
   "source": [
    "# 먼저 각 배열의 크기 N과 swap횟수 k를 받아오자\n",
    "n,k = map(int, input().split())\n",
    "\n",
    "# 각각의 배열을 n크기로 만들어서 입력값 받아오자\n",
    "a = list(map(int, input().split()))\n",
    "b = list(map(int, input().split()))\n",
    "\n",
    "# 입력받아온 배열을 정렬해놓고(a는 오름차순, b는 내림차순) 인덱스로 비교하고 swap하면 어떨까\n",
    "a.sort()\n",
    "b.sort(reverse=True)\n",
    "\n",
    "# 첫 인덱스부터 확인하며, 두 배열의 원소를 최대 k번 비교해줌\n",
    "for i in range(k):\n",
    "    if a[i] < b[i]: # 인덱스 비교해서 a가 작으면 b랑 바꿔야지\n",
    "        a[i], b[i] = b[i], a[i] #swap 과정 해주고\n",
    "    else: #아니라면? 즉, a값이 b값보다 작은데 굳이 swap할 필요는 없지\n",
    "        break #멈춰\n",
    "print(sum(a))"
   ]
  },
  {
   "cell_type": "markdown",
   "id": "incident-pearl",
   "metadata": {},
   "source": [
    "##### Check Point\n",
    "- sorting algorithms (selection, insertion, count, ...)\n",
    "- swap algorithm for index (a[i], b[i] = b[i], a[i])\n",
    "- python sorting library (sorted(array), array.sort())"
   ]
  }
 ],
 "metadata": {
  "kernelspec": {
   "display_name": "Python 3",
   "language": "python",
   "name": "python3"
  },
  "language_info": {
   "codemirror_mode": {
    "name": "ipython",
    "version": 3
   },
   "file_extension": ".py",
   "mimetype": "text/x-python",
   "name": "python",
   "nbconvert_exporter": "python",
   "pygments_lexer": "ipython3",
   "version": "3.7.9"
  }
 },
 "nbformat": 4,
 "nbformat_minor": 5
}
